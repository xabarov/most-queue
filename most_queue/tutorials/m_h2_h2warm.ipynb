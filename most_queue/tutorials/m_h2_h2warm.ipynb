{
 "cells": [
  {
   "cell_type": "markdown",
   "metadata": {
    "pycharm": {
     "name": "#%% md\n"
    }
   },
   "source": [
    "# Расчет СМО M/H2/n с H2-разогревом\n",
    "\n",
    "### О режиме разогрева\n",
    "Режим «разогрева» активизируется в случае, если система была пустой (на обслуживании и в очереди не было ни одной заявки) и прибыла очередная заявка. В этом случае обслуживание прибывшей заявки начнется после случайного периода «разогрева» системы.\n",
    "Кроме того, все прибывающие во время «разогрева» системы заявки попадают в очередь и также не обслуживаются до окончания данного периода.\n",
    "\n",
    "### Об алгоритме\n",
    "В данной реализации предполагается, что время обслуживания и время разогрева задано *H2*-распределениями, каждое со своими параметрами. Параметры *H2*-распределений подбираются по заданным средним и коэффициентам вариации.\n",
    "\n",
    "Алгорим позволяет рассчитать систему при произвольном коэффициенте вариации времени обслуживания. При коэффициенте вариации времени обслуживания < 1 параметры аппроксимирующего *Н2*-распределения являются комплексными, что не мешает получению осмысленных результатов.\n",
    "\n",
    "Для верификации используется имитационное моделирование (ИМ)\n",
    "\n"
   ]
  },
  {
   "cell_type": "markdown",
   "metadata": {
    "pycharm": {
     "name": "#%% md\n"
    }
   },
   "source": [
    "### Задаем входные параметры:"
   ]
  },
  {
   "cell_type": "code",
   "execution_count": 1,
   "metadata": {
    "pycharm": {
     "name": "#%%\n"
    }
   },
   "outputs": [],
   "source": [
    "from most_queue.theory.m_h2_h2warm import Mh2h2Warm\n",
    "from most_queue.sim.qs_sim import QueueingSystemSimulator\n",
    "from most_queue.rand_distribution import Gamma\n",
    "from most_queue.general_utils.tables import probs_print, times_print\n",
    "\n",
    "import math\n",
    "import time\n",
    "\n",
    "n = 5  # число каналов\n",
    "l = 1.0  # интенсивность вх потока\n",
    "ro = 0.7  # коэфф загрузки\n",
    "b1 = n * ro  # ср время обслуживания\n",
    "b1_warm = n * 0.2  # ср время разогрева\n",
    "num_of_jobs = 1000000  # число обсл заявок ИМ\n",
    "b_coev = 1.1  # коэфф вариации времени обсл\n",
    "b_coev_warm = 1.3  # коэфф вариации времени разогрева\n",
    "verbose = False  # не выводить пояснения при расчетах"
   ]
  },
  {
   "cell_type": "markdown",
   "metadata": {
    "pycharm": {
     "name": "#%% md\n"
    }
   },
   "source": [
    "### Задаем начальные моменты времени обслуживания"
   ]
  },
  {
   "cell_type": "code",
   "execution_count": 2,
   "metadata": {
    "pycharm": {
     "name": "#%%\n"
    }
   },
   "outputs": [],
   "source": [
    "b = [0.0] * 3\n",
    "alpha = 1 / (b_coev ** 2)\n",
    "b[0] = b1\n",
    "b[1] = math.pow(b[0], 2) * (math.pow(b_coev, 2) + 1)\n",
    "b[2] = b[1] * b[0] * (1.0 + 2 / alpha)"
   ]
  },
  {
   "cell_type": "markdown",
   "metadata": {
    "pycharm": {
     "name": "#%% md\n"
    }
   },
   "source": []
  },
  {
   "cell_type": "markdown",
   "metadata": {
    "pycharm": {
     "name": "#%% md\n"
    }
   },
   "source": [
    "### Задаем начальные моменты времени разогрева"
   ]
  },
  {
   "cell_type": "code",
   "execution_count": 3,
   "metadata": {
    "pycharm": {
     "name": "#%%\n"
    }
   },
   "outputs": [],
   "source": [
    "b_w = [0.0] * 3\n",
    "b_w[0] = b1_warm\n",
    "alpha = 1 / (b_coev_warm ** 2)\n",
    "b_w[1] = math.pow(b_w[0], 2) * (math.pow(b_coev_warm, 2) + 1)\n",
    "b_w[2] = b_w[1] * b_w[0] * (1.0 + 2 / alpha)"
   ]
  },
  {
   "cell_type": "markdown",
   "metadata": {
    "pycharm": {
     "name": "#%% md\n"
    }
   },
   "source": [
    "### Запускаем ИМ"
   ]
  },
  {
   "cell_type": "code",
   "execution_count": 4,
   "metadata": {
    "pycharm": {
     "name": "#%%\n"
    }
   },
   "outputs": [
    {
     "name": "stdout",
     "output_type": "stream",
     "text": [
      "Start simulation\n",
      "\n"
     ]
    },
    {
     "name": "stderr",
     "output_type": "stream",
     "text": [
      "100%|██████████| 3000000/3000000 [00:16<00:00, 183616.91it/s]\n"
     ]
    },
    {
     "name": "stdout",
     "output_type": "stream",
     "text": [
      "Simulation is finished\n",
      "\n"
     ]
    }
   ],
   "source": [
    "sim_start = time.process_time()\n",
    "\n",
    "qs = QueueingSystemSimulator(n)  # экземпляр класса ИМ\n",
    "qs.set_sources(l, 'M')  # задаем параметры вх потока (параметры, тип распределения)\n",
    "\n",
    "gamma_params = Gamma.get_mu_alpha(b)\n",
    "qs.set_servers(gamma_params, 'Gamma')  # задаем параметры обслуживания\n",
    "\n",
    "gamma_params_warm = Gamma.get_mu_alpha(b_w)\n",
    "qs.set_warm(gamma_params_warm, 'Gamma')  # задаем параметры разогрева\n",
    "\n",
    "qs.run(num_of_jobs)  # запуск ИМ\n",
    "\n",
    "# после окончания ИМ сохраняем вероятности состояний и нач моменты времени пребывания\n",
    "p = qs.get_p()\n",
    "v_sim = qs.v\n",
    "\n",
    "sim_time = time.process_time() - sim_start"
   ]
  },
  {
   "cell_type": "markdown",
   "metadata": {
    "pycharm": {
     "name": "#%% md\n"
    }
   },
   "source": [
    "### Запуск расчета итерационным методом"
   ]
  },
  {
   "cell_type": "code",
   "execution_count": 5,
   "metadata": {
    "pycharm": {
     "name": "#%%\n"
    }
   },
   "outputs": [
    {
     "name": "stderr",
     "output_type": "stream",
     "text": [
      "D:\\python\\mps_14_08\\venv\\lib\\site-packages\\most_queue\\theory\\m_h2_h2warm.py:314: ComplexWarning: Casting complex values to real discards the imaginary part\n",
      "  while math.fabs(1.0 - p_sum) > 1e-6:\n"
     ]
    }
   ],
   "source": [
    "tt_start = time.process_time()\n",
    "tt = Mh2h2Warm(l, b, b_w, n, verbose=verbose)  # передаем параметры в экземпляр класса\n",
    "\n",
    "tt.run()  # запуск расчета\n",
    "\n",
    "# после окончания расчета сохраняем вероятности состояний и нач моменты времени пребывания\n",
    "p_tt = tt.get_p()\n",
    "v_tt = tt.get_v()\n",
    "\n",
    "tt_time = time.process_time() - tt_start\n",
    "\n",
    "num_of_iter = tt.num_of_iter_  # число итераций"
   ]
  },
  {
   "cell_type": "markdown",
   "metadata": {
    "pycharm": {
     "name": "#%% md\n"
    }
   },
   "source": [
    "### Вывод результатов"
   ]
  },
  {
   "cell_type": "code",
   "execution_count": 6,
   "metadata": {
    "pycharm": {
     "name": "#%%\n"
    }
   },
   "outputs": [
    {
     "name": "stdout",
     "output_type": "stream",
     "text": [
      "\n",
      "Сравнение результатов расчета методом Такахаси-Таками и ИМ.\n",
      "ИМ - M/Gamma/5  с Gamma разогревом\n",
      "Такахаси-Таками - M/H2/5  c H2-разогревомКоэффициент загрузки: 0.70\n",
      "Коэффициент вариации времени обслуживания 1.100\n",
      "Коэффициент вариации времени разогрева 1.300\n",
      "Количество итераций алгоритма Такахаси-Таками:  26 \n",
      "Время работы алгоритма Такахаси-Таками: 0.109 c\n",
      "Время ИМ: 7.047 c\n",
      "------------------------------------\n",
      "       Вероятности состояний        \n",
      "------------------------------------\n",
      " №  |     Числ      |      ИМ       \n",
      "------------------------------------\n",
      " 0  |   0.021523    |   0.021702    \n",
      " 1  |   0.086511    |   0.087107    \n",
      " 2  |    0.15644    |    0.15634    \n",
      " 3  |    0.18445    |    0.18424    \n",
      " 4  |    0.16128    |    0.16112    \n",
      " 5  |    0.11115    |    0.10992    \n",
      " 6  |   0.078321    |   0.078089    \n",
      " 7  |   0.055874    |   0.055749    \n",
      " 8  |   0.040129    |   0.040355    \n",
      " 9  |   0.028924    |   0.029204    \n",
      "------------------------------------\n",
      "\n",
      "Начальные моменты времени пребывания заявок в системе:\n",
      "   № момента   |     Числ      |      ИМ       \n",
      "---------------------------------------------\n",
      "       1       |    4.5197     |    4.5505     \n",
      "       2       |    39.436     |    39.794     \n",
      "       3       |    502.28     |    507.76     \n",
      "\n"
     ]
    }
   ],
   "source": [
    "print(\"\\nСравнение результатов расчета методом Такахаси-Таками и ИМ.\\n\"\n",
    "      f\"ИМ - M/Gamma/{n:^2d} с Gamma разогревом\\n\"\n",
    "      f\"Такахаси-Таками - M/H2/{n:^2d} c H2-разогревом\"\n",
    "      f\"Коэффициент загрузки: {ro:^1.2f}\")\n",
    "print(f'Коэффициент вариации времени обслуживания {b_coev:0.3f}')\n",
    "print(f'Коэффициент вариации времени разогрева {b_coev_warm:0.3f}')\n",
    "print(f\"Количество итераций алгоритма Такахаси-Таками: {num_of_iter:^4d}\")\n",
    "print(f\"Время работы алгоритма Такахаси-Таками: {tt_time:^5.3f} c\")\n",
    "print(f\"Время ИМ: {sim_time:^5.3f} c\")\n",
    "\n",
    "probs_print(p, p_tt, 10)\n",
    "\n",
    "times_print(v_sim, v_tt, is_w=False)"
   ]
  }
 ],
 "metadata": {
  "kernelspec": {
   "display_name": "Python 3 (ipykernel)",
   "language": "python",
   "name": "python3"
  },
  "language_info": {
   "codemirror_mode": {
    "name": "ipython",
    "version": 3
   },
   "file_extension": ".py",
   "mimetype": "text/x-python",
   "name": "python",
   "nbconvert_exporter": "python",
   "pygments_lexer": "ipython3",
   "version": "3.9.13"
  }
 },
 "nbformat": 4,
 "nbformat_minor": 1
}
