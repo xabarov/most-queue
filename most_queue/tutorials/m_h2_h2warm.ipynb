{
 "cells": [
  {
   "cell_type": "markdown",
   "metadata": {
    "pycharm": {
     "name": "#%% md\n"
    }
   },
   "source": [
    "# Расчет СМО M/H2/n с H2-разогревом"
   ]
  },
  {
   "cell_type": "markdown",
   "metadata": {
    "pycharm": {
     "name": "#%% md\n"
    }
   },
   "source": [
    "### Задаем входные параметры:"
   ]
  },
  {
   "cell_type": "code",
   "execution_count": 32,
   "metadata": {
    "pycharm": {
     "name": "#%%\n"
    }
   },
   "outputs": [],
   "source": [
    "from most_queue.theory.m_h2_h2warm import Mh2h2Warm\n",
    "from most_queue.sim import smo_im\n",
    "from most_queue.sim import rand_destribution as rd\n",
    "\n",
    "import math\n",
    "import time\n",
    "\n",
    "n = 5 # число каналов\n",
    "l = 1.0  # интенсивность вх потока\n",
    "ro = 0.7  # коэфф загрузки\n",
    "b1 = n * ro  # ср время обслуживания\n",
    "b1_warm = n * 0.2  # ср время разогрева\n",
    "num_of_jobs = 3000000  # число обсл заявок ИМ\n",
    "b_coev = 1.1  # коэфф вариации времени обсл\n",
    "b_coev_warm = 1.3  # коэфф вариации времени разогрева\n",
    "buff = None\n",
    "verbose = False  # не выводить пояснения при расчетах"
   ]
  },
  {
   "cell_type": "markdown",
   "metadata": {
    "pycharm": {
     "name": "#%% md\n"
    }
   },
   "source": [
    "Задаем начальные моменты времени обслуживания"
   ]
  },
  {
   "cell_type": "code",
   "execution_count": 33,
   "metadata": {
    "pycharm": {
     "name": "#%%\n"
    }
   },
   "outputs": [],
   "source": [
    "b = [0.0] * 3\n",
    "alpha = 1 / (b_coev ** 2)\n",
    "b[0] = b1\n",
    "b[1] = math.pow(b[0], 2) * (math.pow(b_coev, 2) + 1)\n",
    "b[2] = b[1] * b[0] * (1.0 + 2 / alpha)"
   ]
  },
  {
   "cell_type": "markdown",
   "metadata": {
    "pycharm": {
     "name": "#%% md\n"
    }
   },
   "source": []
  },
  {
   "cell_type": "markdown",
   "metadata": {
    "pycharm": {
     "name": "#%% md\n"
    }
   },
   "source": [
    "Задаем начальные моменты времени разогрева"
   ]
  },
  {
   "cell_type": "code",
   "execution_count": 34,
   "metadata": {
    "pycharm": {
     "name": "#%%\n"
    }
   },
   "outputs": [],
   "source": [
    "b_w = [0.0] * 3\n",
    "b_w[0] = b1_warm\n",
    "alpha = 1 / (b_coev_warm ** 2)\n",
    "b_w[1] = math.pow(b_w[0], 2) * (math.pow(b_coev_warm, 2) + 1)\n",
    "b_w[2] = b_w[1] * b_w[0] * (1.0 + 2 / alpha)"
   ]
  },
  {
   "cell_type": "markdown",
   "metadata": {
    "pycharm": {
     "name": "#%% md\n"
    }
   },
   "source": [
    "Запускаем ИМ"
   ]
  },
  {
   "cell_type": "code",
   "execution_count": 35,
   "metadata": {
    "pycharm": {
     "name": "#%%\n"
    }
   },
   "outputs": [
    {
     "name": "stdout",
     "output_type": "stream",
     "text": [
      "Start simulation...\n"
     ]
    },
    {
     "name": "stderr",
     "output_type": "stream",
     "text": [
      "100%|██████████| 3000000/3000000 [00:28<00:00, 106064.64it/s]\n"
     ]
    }
   ],
   "source": [
    "im_start = time.process_time()\n",
    "\n",
    "smo = smo_im.SmoIm(n, buffer=buff)  # экземпляр класса ИМ\n",
    "smo.set_sources(l, 'M')  # задаем параметры вх потока (параметры, тип распределения)\n",
    "\n",
    "gamma_params = rd.Gamma.get_mu_alpha(b)\n",
    "smo.set_servers(gamma_params, 'Gamma')  # задаем параметры обслуживания\n",
    "\n",
    "gamma_params_warm = rd.Gamma.get_mu_alpha(b_w)\n",
    "smo.set_warm(gamma_params_warm, 'Gamma')  # задаем параметры разогрева\n",
    "\n",
    "smo.run(num_of_jobs)  # запуск ИМ\n",
    "\n",
    "# после окончания ИМ сохраняем вероятности состояний и нач моменты времени пребывания\n",
    "p = smo.get_p()\n",
    "w_im = smo.w\n",
    "\n",
    "im_time = time.process_time() - im_start"
   ]
  },
  {
   "cell_type": "markdown",
   "metadata": {
    "pycharm": {
     "name": "#%% md\n"
    }
   },
   "source": [
    "Запуск расчета итерационным методом"
   ]
  },
  {
   "cell_type": "code",
   "execution_count": 36,
   "metadata": {
    "pycharm": {
     "name": "#%%\n"
    }
   },
   "outputs": [],
   "source": [
    "tt_start = time.process_time()\n",
    "tt = Mh2h2Warm(l, b, b_w, n, buffer=buff, verbose=verbose)  # передаем параметры в экземпляр класса\n",
    "\n",
    "tt.run()  # запуск расчета\n",
    "\n",
    "# после окончания расчета сохраняем вероятности состояний и нач моменты времени пребывания\n",
    "p_tt = tt.get_p()\n",
    "w_tt = tt.get_w()\n",
    "\n",
    "tt_time = time.process_time() - tt_start\n",
    "\n",
    "num_of_iter = tt.num_of_iter_  # число итераций"
   ]
  },
  {
   "cell_type": "markdown",
   "metadata": {
    "pycharm": {
     "name": "#%% md\n"
    }
   },
   "source": [
    "Вывод результатов"
   ]
  },
  {
   "cell_type": "code",
   "execution_count": 37,
   "metadata": {
    "pycharm": {
     "name": "#%%\n"
    }
   },
   "outputs": [
    {
     "name": "stdout",
     "output_type": "stream",
     "text": [
      "\n",
      "Сравнение результатов расчета методом Такахаси-Таками и ИМ.\n",
      "ИМ - M/Gamma/5  с Gamma разогревом\n",
      "Такахаси-Таками - M/H2/5  c H2-разогревом с комплексными параметрами\n",
      "Коэффициент загрузки: 0.70\n",
      "Коэффициент вариации времени обслуживания 1.100\n",
      "Коэффициент вариации времени разогрева 1.300\n",
      "Количество итераций алгоритма Такахаси-Таками:  26 \n",
      "Время работы алгоритма Такахаси-Таками: 0.203 c\n",
      "Время ИМ: 29.109 c\n",
      "Первые 10 вероятностей состояний СМО\n",
      " № |     Числ      |      ИМ       \n",
      "--------------------------------\n",
      " 0  |    0.0215     |    0.0217     \n",
      " 1  |    0.0865     |    0.0871     \n",
      " 2  |     0.156     |     0.156     \n",
      " 3  |     0.184     |     0.185     \n",
      " 4  |     0.161     |     0.162     \n",
      " 5  |     0.111     |     0.111     \n",
      " 6  |    0.0783     |    0.0783     \n",
      " 7  |    0.0559     |     0.056     \n",
      " 8  |    0.0401     |    0.0399     \n",
      " 9  |    0.0289     |    0.0285     \n",
      " 10 |    0.0209     |    0.0207     \n",
      "\n",
      "\n",
      "Начальные моменты времени ожидания в СМО\n",
      " № |     Числ      |      ИМ       \n",
      "--------------------------------\n",
      " 1  |     1.05      |     1.05      \n",
      " 2  |     5.72      |     5.41      \n",
      " 3  |     47.1      |     42.6      \n"
     ]
    }
   ],
   "source": [
    "print(\"\\nСравнение результатов расчета методом Такахаси-Таками и ИМ.\\n\"\n",
    "              \"ИМ - M/Gamma/{0:^2d} с Gamma разогревом\\nТакахаси-Таками - M/H2/{0:^2d} c H2-разогревом \"\n",
    "              \"с комплексными параметрами\\n\"\n",
    "              \"Коэффициент загрузки: {1:^1.2f}\".format(n, ro))\n",
    "print(f'Коэффициент вариации времени обслуживания {b_coev:0.3f}')\n",
    "print(f'Коэффициент вариации времени разогрева {b_coev_warm:0.3f}')\n",
    "print(\"Количество итераций алгоритма Такахаси-Таками: {0:^4d}\".format(num_of_iter))\n",
    "print(\"Время работы алгоритма Такахаси-Таками: {0:^5.3f} c\".format(tt_time))\n",
    "print(\"Время ИМ: {0:^5.3f} c\".format(im_time))\n",
    "print(\"{0:^25s}\".format(\"Первые 10 вероятностей состояний СМО\"))\n",
    "print(\"{0:^3s}|{1:^15s}|{2:^15s}\".format(\"№\", \"Числ\", \"ИМ\"))\n",
    "print(\"-\" * 32)\n",
    "for i in range(11):\n",
    "    print(\"{0:^4d}|{1:^15.3g}|{2:^15.3g}\".format(i, p_tt[i], p[i]))\n",
    "\n",
    "print(\"\\n\")\n",
    "print(\"{0:^25s}\".format(\"Начальные моменты времени ожидания в СМО\"))\n",
    "print(\"{0:^3s}|{1:^15s}|{2:^15s}\".format(\"№\", \"Числ\", \"ИМ\"))\n",
    "print(\"-\" * 32)\n",
    "for i in range(3):\n",
    "    print(\"{0:^4d}|{1:^15.3g}|{2:^15.3g}\".format(i + 1, w_tt[i], w_im[i]))"
   ]
  },
  {
   "cell_type": "code",
   "execution_count": 37,
   "metadata": {
    "pycharm": {
     "name": "#%%\n"
    }
   },
   "outputs": [],
   "source": []
  },
  {
   "cell_type": "code",
   "execution_count": 37,
   "outputs": [],
   "source": [],
   "metadata": {
    "collapsed": false,
    "pycharm": {
     "name": "#%%\n"
    }
   }
  },
  {
   "cell_type": "code",
   "execution_count": null,
   "metadata": {},
   "outputs": [],
   "source": []
  }
 ],
 "metadata": {
  "kernelspec": {
   "display_name": "Python 3 (ipykernel)",
   "language": "python",
   "name": "python3"
  },
  "language_info": {
   "codemirror_mode": {
    "name": "ipython",
    "version": 3
   },
   "file_extension": ".py",
   "mimetype": "text/x-python",
   "name": "python",
   "nbconvert_exporter": "python",
   "pygments_lexer": "ipython3",
   "version": "3.9.13"
  }
 },
 "nbformat": 4,
 "nbformat_minor": 1
}