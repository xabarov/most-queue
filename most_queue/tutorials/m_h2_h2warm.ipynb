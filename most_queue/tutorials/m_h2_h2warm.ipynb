{
 "cells": [
  {
   "cell_type": "markdown",
   "source": [
    "# Расчет СМО M/H2/n с H2-разогревом"
   ],
   "metadata": {
    "collapsed": false,
    "pycharm": {
     "name": "#%% md\n"
    }
   }
  },
  {
   "cell_type": "markdown",
   "source": [
    "### Задаем входные параметры:"
   ],
   "metadata": {
    "collapsed": false,
    "pycharm": {
     "name": "#%% md\n"
    }
   }
  },
  {
   "cell_type": "code",
   "execution_count": 1,
   "outputs": [],
   "source": [
    "from most_queue.theory.m_h2_h2warm import Mh2h2Warm\n",
    "from most_queue.sim import smo_im\n",
    "from most_queue.sim import rand_destribution as rd\n",
    "\n",
    "import math\n",
    "import time\n",
    "\n",
    "n = 3  # число каналов\n",
    "l = 1.0  # интенсивность вх потока\n",
    "ro = 0.7  # коэфф загрузки\n",
    "b1 = n * 0.7  # ср время обслуживания\n",
    "b1_warm = n * 0.9  # ср время разогрева\n",
    "num_of_jobs = 1000000  # число обсл заявок ИМ\n",
    "b_coev = 1.5  # коэфф вариации времени обсл\n",
    "b_coev_warm = 1.2  # коэфф вариации времени разогрева\n",
    "buff = None  # очередь - неограниченная\n",
    "verbose = False  # не выводить пояснения при расчетах"
   ],
   "metadata": {
    "collapsed": false,
    "pycharm": {
     "name": "#%%\n"
    }
   }
  },
  {
   "cell_type": "markdown",
   "source": [
    "Задаем начальные моменты времени обслуживания"
   ],
   "metadata": {
    "collapsed": false,
    "pycharm": {
     "name": "#%% md\n"
    }
   }
  },
  {
   "cell_type": "code",
   "execution_count": 2,
   "outputs": [],
   "source": [
    "b = [0.0] * 3\n",
    "alpha = 1 / (b_coev ** 2)\n",
    "b[0] = b1\n",
    "b[1] = math.pow(b[0], 2) * (math.pow(b_coev, 2) + 1)\n",
    "b[2] = b[1] * b[0] * (1.0 + 2 / alpha)"
   ],
   "metadata": {
    "collapsed": false,
    "pycharm": {
     "name": "#%%\n"
    }
   }
  },
  {
   "cell_type": "markdown",
   "source": [],
   "metadata": {
    "collapsed": false,
    "pycharm": {
     "name": "#%% md\n"
    }
   }
  },
  {
   "cell_type": "markdown",
   "source": [
    "Задаем начальные моменты времени разогрева"
   ],
   "metadata": {
    "collapsed": false,
    "pycharm": {
     "name": "#%% md\n"
    }
   }
  },
  {
   "cell_type": "code",
   "execution_count": 3,
   "outputs": [],
   "source": [
    "b_w = [0.0] * 3\n",
    "b_w[0] = b1_warm\n",
    "alpha = 1 / (b_coev_warm ** 2)\n",
    "b_w[1] = math.pow(b_w[0], 2) * (math.pow(b_coev_warm, 2) + 1)\n",
    "b_w[2] = b_w[1] * b_w[0] * (1.0 + 2 / alpha)"
   ],
   "metadata": {
    "collapsed": false,
    "pycharm": {
     "name": "#%%\n"
    }
   }
  },
  {
   "cell_type": "markdown",
   "source": [
    "Запускаем ИМ"
   ],
   "metadata": {
    "collapsed": false,
    "pycharm": {
     "name": "#%% md\n"
    }
   }
  },
  {
   "cell_type": "code",
   "execution_count": 4,
   "outputs": [
    {
     "name": "stdout",
     "output_type": "stream",
     "text": [
      "Start simulation...\n"
     ]
    },
    {
     "name": "stderr",
     "output_type": "stream",
     "text": [
      "100%|██████████| 1000000/1000000 [00:03<00:00, 307050.41it/s]\n"
     ]
    }
   ],
   "source": [
    "im_start = time.process_time()\n",
    "\n",
    "smo = smo_im.SmoIm(n, buffer=buff)  # экземпляр класса ИМ\n",
    "smo.set_sources(l, 'M')  # задаем параметры вх потока (параметры, тип распределения)\n",
    "\n",
    "gamma_params = rd.Gamma.get_mu_alpha(b)\n",
    "smo.set_servers(gamma_params, 'Gamma')  # задаем параметры обслуживания\n",
    "\n",
    "gamma_params_warm = rd.Gamma.get_mu_alpha(b_w)\n",
    "smo.set_warm(gamma_params_warm, 'Gamma')  # задаем параметры разогрева\n",
    "\n",
    "smo.run(num_of_jobs)  # запуск ИМ\n",
    "\n",
    "# после окончания ИМ сохраняем вероятности состояний и нач моменты времени пребывания\n",
    "p = smo.get_p()\n",
    "v_im = smo.v  # smo.w - ожидания\n",
    "\n",
    "im_time = time.process_time() - im_start"
   ],
   "metadata": {
    "collapsed": false,
    "pycharm": {
     "name": "#%%\n"
    }
   }
  },
  {
   "cell_type": "markdown",
   "source": [
    "Запуск расчета итерационным методом"
   ],
   "metadata": {
    "collapsed": false,
    "pycharm": {
     "name": "#%% md\n"
    }
   }
  },
  {
   "cell_type": "code",
   "execution_count": 5,
   "outputs": [
    {
     "name": "stderr",
     "output_type": "stream",
     "text": [
      "D:\\python\\mps_14_08\\venv\\lib\\site-packages\\most_queue\\theory\\m_h2_h2warm.py:202: ComplexWarning: Casting complex values to real discards the imaginary part\n",
      "  while math.fabs(1.0 - p_sum) > 1e-6:\n"
     ]
    }
   ],
   "source": [
    "tt_start = time.process_time()\n",
    "tt = Mh2h2Warm(l, b, b_w, n, buffer=buff, verbose=verbose)  # передаем параметры в экземпляр класса\n",
    "\n",
    "tt.run()  # запуск расчета\n",
    "\n",
    "# после окончания расчета сохраняем вероятности состояний и нач моменты времени пребывания\n",
    "p_tt = tt.get_p()\n",
    "v_tt = tt.get_v()\n",
    "\n",
    "tt_time = time.process_time() - tt_start\n",
    "\n",
    "num_of_iter = tt.num_of_iter_  # число итераций"
   ],
   "metadata": {
    "collapsed": false,
    "pycharm": {
     "name": "#%%\n"
    }
   }
  },
  {
   "cell_type": "markdown",
   "source": [
    "Вывод результатов"
   ],
   "metadata": {
    "collapsed": false,
    "pycharm": {
     "name": "#%% md\n"
    }
   }
  },
  {
   "cell_type": "code",
   "execution_count": 6,
   "outputs": [
    {
     "name": "stdout",
     "output_type": "stream",
     "text": [
      "\n",
      "Сравнение результатов расчета методом Такахаси-Таками и ИМ.\n",
      "ИМ - M/Gamma/3 \n",
      "Такахаси-Таками - M/H2/3 с комплексными параметрами\n",
      "Коэффициент загрузки: 0.70\n",
      "Коэффициент вариации времени обслуживания 1.500\n",
      "Коэффициент вариации времени разогрева 1.200\n",
      "Количество итераций алгоритма Такахаси-Таками:  36 \n",
      "Время работы алгоритма Такахаси-Таками: 0.109 c\n",
      "Время ИМ: 3.234 c\n",
      "Первые 10 вероятностей состояний СМО\n",
      " № |     Числ      |      ИМ       \n",
      "--------------------------------\n",
      " 0  |     0.08      |    0.0966     \n",
      " 1  |     0.203     |     0.202     \n",
      " 2  |     0.206     |     0.205     \n",
      " 3  |     0.124     |     0.116     \n",
      " 4  |    0.0857     |    0.0832     \n",
      " 5  |    0.0636     |    0.0635     \n",
      " 6  |     0.049     |    0.0492     \n",
      " 7  |    0.0385     |    0.0387     \n",
      " 8  |    0.0304     |    0.0303     \n",
      " 9  |    0.0242     |    0.0238     \n",
      " 10 |    0.0192     |    0.0187     \n",
      "\n",
      "\n",
      "Начальные моменты времени ожидания в СМО\n",
      " № |     Числ      |      ИМ       \n",
      "--------------------------------\n",
      " 1  |       4       |      3.9      \n",
      " 2  |     36.9      |     35.6      \n",
      " 3  |      511      |      486      \n"
     ]
    }
   ],
   "source": [
    "print(\"\\nСравнение результатов расчета методом Такахаси-Таками и ИМ.\\n\"\n",
    "              \"ИМ - M/Gamma/{0:^2d}\\nТакахаси-Таками - M/H2/{0:^2d}\"\n",
    "              \"с комплексными параметрами\\n\"\n",
    "              \"Коэффициент загрузки: {1:^1.2f}\".format(n, ro))\n",
    "print(f'Коэффициент вариации времени обслуживания {b_coev:0.3f}')\n",
    "print(f'Коэффициент вариации времени разогрева {b_coev_warm:0.3f}')\n",
    "print(\"Количество итераций алгоритма Такахаси-Таками: {0:^4d}\".format(num_of_iter))\n",
    "print(\"Время работы алгоритма Такахаси-Таками: {0:^5.3f} c\".format(tt_time))\n",
    "print(\"Время ИМ: {0:^5.3f} c\".format(im_time))\n",
    "print(\"{0:^25s}\".format(\"Первые 10 вероятностей состояний СМО\"))\n",
    "print(\"{0:^3s}|{1:^15s}|{2:^15s}\".format(\"№\", \"Числ\", \"ИМ\"))\n",
    "print(\"-\" * 32)\n",
    "for i in range(11):\n",
    "    print(\"{0:^4d}|{1:^15.3g}|{2:^15.3g}\".format(i, p_tt[i], p[i]))\n",
    "\n",
    "print(\"\\n\")\n",
    "print(\"{0:^25s}\".format(\"Начальные моменты времени ожидания в СМО\"))\n",
    "print(\"{0:^3s}|{1:^15s}|{2:^15s}\".format(\"№\", \"Числ\", \"ИМ\"))\n",
    "print(\"-\" * 32)\n",
    "for i in range(3):\n",
    "    print(\"{0:^4d}|{1:^15.3g}|{2:^15.3g}\".format(i + 1, v_tt[i], v_im[i]))"
   ],
   "metadata": {
    "collapsed": false,
    "pycharm": {
     "name": "#%%\n"
    }
   }
  },
  {
   "cell_type": "code",
   "execution_count": null,
   "outputs": [],
   "source": [],
   "metadata": {
    "collapsed": false,
    "pycharm": {
     "name": "#%%\n"
    }
   }
  }
 ],
 "metadata": {
  "kernelspec": {
   "display_name": "Python 3",
   "language": "python",
   "name": "python3"
  },
  "language_info": {
   "codemirror_mode": {
    "name": "ipython",
    "version": 2
   },
   "file_extension": ".py",
   "mimetype": "text/x-python",
   "name": "python",
   "nbconvert_exporter": "python",
   "pygments_lexer": "ipython2",
   "version": "2.7.6"
  }
 },
 "nbformat": 4,
 "nbformat_minor": 0
}