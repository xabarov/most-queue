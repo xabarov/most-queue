{
 "cells": [
  {
   "cell_type": "markdown",
   "metadata": {
    "collapsed": false,
    "pycharm": {
     "name": "#%% md\n"
    }
   },
   "source": [
    "# Запуск имитационной модели системы массового обслуживания без приоритетов\n",
    "\n",
    "Имитационная модель (ИМ) СМО поддерживает различные типы распределений входного потока и обслуживания, произвольное число каналов. Возможно задание максимальной длины очереди. По умолчанию - бесконечная очередь. В нотации Кендалла: GI/G/n/r и GI/G/n\n",
    "\n",
    "Для запуска ИМ требуется 4 шага:\n",
    "- создание экземпляра ИМ\n",
    "- задание входного потока\n",
    "- задание распределения обслуживания\n",
    "- запуск модели\n"
   ]
  },
  {
   "cell_type": "markdown",
   "metadata": {
    "collapsed": false,
    "pycharm": {
     "name": "#%% md\n"
    }
   },
   "source": [
    "#### Импорт класса QueueingSystemSimulator и создание экземпляра ИМ.\n",
    "При создании укажем число каналов *n* и максимальную длину очереди *r*. Если не указать, то по умолчанию очередь считается неограниченной."
   ]
  },
  {
   "cell_type": "code",
   "execution_count": 20,
   "metadata": {
    "collapsed": false,
    "pycharm": {
     "name": "#%%\n"
    }
   },
   "outputs": [],
   "source": [
    "from most_queue.sim.qs_sim import QueueingSystemSimulator\n",
    "\n",
    "n = 3\n",
    "r = 100\n",
    "\n",
    "qs = QueueingSystemSimulator(n, buffer=r)"
   ]
  },
  {
   "cell_type": "markdown",
   "metadata": {
    "collapsed": false,
    "pycharm": {
     "name": "#%% md\n"
    }
   },
   "source": [
    "#### Задаем входной поток.\n",
    "Метод *set_sources* принимает два параметра:\n",
    "- параметры распределения\n",
    "- тип распределения\n",
    "\n",
    "Для экспоненциального достаточно передать один параметр - интенсивность входящего потока. Для большинства распределений параметры задаются списком"
   ]
  },
  {
   "cell_type": "markdown",
   "metadata": {
    "collapsed": false,
    "pycharm": {
     "name": "#%% md\n"
    }
   },
   "source": [
    "#### Поддерживаемые виды распределений вх потока\n",
    "| Вид распределения | Тип | Параметры |\n",
    "| --- | --- | --- |\n",
    "| Экспоненциальное | 'М' | mu\n",
    "| Гиперэкспоненциальное 2-го порядка | 'Н' | [y1, mu1, mu2]\n",
    "| Гамма-распределение | 'Gamma' | [mu, alpha]\n",
    "| Эрланга | 'E'| [r, mu]\n",
    "| Кокса 2-го порядка | 'C' | [y1, mu1, mu2]\n",
    "| Парето | 'Pa'| [alpha, K]\n",
    "| Детерминированное | 'D' | [b]\n",
    "| Равномерное | 'Uniform'| [mean, half_interval]\n",
    "| Нормальное | 'Norm'| [mean, standard_deviation]"
   ]
  },
  {
   "cell_type": "code",
   "execution_count": 21,
   "metadata": {
    "collapsed": false,
    "pycharm": {
     "name": "#%%\n"
    }
   },
   "outputs": [],
   "source": [
    "l = 1.0\n",
    "qs.set_sources(l, 'M')"
   ]
  },
  {
   "cell_type": "markdown",
   "metadata": {
    "collapsed": false,
    "pycharm": {
     "name": "#%% md\n"
    }
   },
   "source": [
    "#### Задаем распределение времени обслуживания. Рассчитаем интенсивность обслуживания через коэффициент загрузки и число каналов"
   ]
  },
  {
   "cell_type": "code",
   "execution_count": 22,
   "metadata": {
    "collapsed": false,
    "pycharm": {
     "name": "#%%\n"
    }
   },
   "outputs": [],
   "source": [
    "ro = 0.8  # коэффициент загрузки\n",
    "mu = l / (ro * n)  # интенсивность обслуживания\n",
    "qs.set_servers(mu, 'M')"
   ]
  },
  {
   "cell_type": "markdown",
   "metadata": {
    "collapsed": false,
    "pycharm": {
     "name": "#%% md\n"
    }
   },
   "source": [
    "#### Для запуска ИМ необходимо вызвать метод *run* и передать число заявок"
   ]
  },
  {
   "cell_type": "code",
   "execution_count": 23,
   "metadata": {
    "collapsed": false,
    "pycharm": {
     "name": "#%%\n"
    }
   },
   "outputs": [
    {
     "name": "stdout",
     "output_type": "stream",
     "text": [
      "Start simulation\n",
      "\n"
     ]
    },
    {
     "name": "stderr",
     "output_type": "stream",
     "text": [
      "100%|██████████| 1000000/1000000 [00:03<00:00, 278094.36it/s]\n"
     ]
    },
    {
     "name": "stdout",
     "output_type": "stream",
     "text": [
      "Simulation is finished\n",
      "\n"
     ]
    }
   ],
   "source": [
    "num_of_jobs = 1000000\n",
    "qs.run(num_of_jobs)"
   ]
  },
  {
   "cell_type": "markdown",
   "metadata": {
    "collapsed": false,
    "pycharm": {
     "name": "#%% md\n"
    }
   },
   "source": [
    "#### После окончания ИМ можно получить начальные моменты времени ожидания и пребывания, а также вероятности состояний системы"
   ]
  },
  {
   "cell_type": "code",
   "execution_count": 24,
   "metadata": {
    "collapsed": false,
    "pycharm": {
     "name": "#%%\n"
    }
   },
   "outputs": [
    {
     "name": "stdout",
     "output_type": "stream",
     "text": [
      "Time spent  1.453125\n",
      "[5.003024348895862, 44.626632671328096, 561.7197477712853]\n"
     ]
    }
   ],
   "source": [
    "print(\"Time spent \", qs.time_spent)\n",
    "v_sim = qs.v\n",
    "w_sim = qs.w\n",
    "p_sim = qs.p\n",
    "print(v_sim)"
   ]
  },
  {
   "cell_type": "markdown",
   "metadata": {
    "collapsed": false,
    "pycharm": {
     "name": "#%% md\n"
    }
   },
   "source": [
    "#### Сверим результаты ИМ с результатами численного расчета для модели M/M/n/r"
   ]
  },
  {
   "cell_type": "code",
   "execution_count": 25,
   "metadata": {
    "collapsed": false,
    "pycharm": {
     "name": "#%%\n"
    }
   },
   "outputs": [
    {
     "name": "stdout",
     "output_type": "stream",
     "text": [
      "Начальные моменты времени ожидания заявок в системе:\n",
      "   № момента   |     Числ      |      ИМ       \n",
      "---------------------------------------------\n",
      "       1       |    2.5888     |     2.603     \n",
      "       2       |     20.71     |    20.607     \n",
      "       3       |    248.52     |    240.52     \n",
      "\n"
     ]
    }
   ],
   "source": [
    "from most_queue.theory import mmnr_calc\n",
    "from most_queue.general_utils.tables import times_print, probs_print\n",
    "\n",
    "w = mmnr_calc.MMnr_calc.get_w(l, mu, n, r)\n",
    "times_print(w_sim, w)"
   ]
  },
  {
   "cell_type": "markdown",
   "metadata": {
    "collapsed": false,
    "pycharm": {
     "name": "#%% md\n"
    }
   },
   "source": [
    "#### Проверим корректность ИМ с помощью результатов расчета M/D/n"
   ]
  },
  {
   "cell_type": "code",
   "execution_count": 26,
   "metadata": {
    "collapsed": false,
    "pycharm": {
     "name": "#%%\n"
    }
   },
   "outputs": [
    {
     "name": "stdout",
     "output_type": "stream",
     "text": [
      "Start simulation\n",
      "\n"
     ]
    },
    {
     "name": "stderr",
     "output_type": "stream",
     "text": [
      "100%|██████████| 1000000/1000000 [00:03<00:00, 324213.98it/s]\n"
     ]
    },
    {
     "name": "stdout",
     "output_type": "stream",
     "text": [
      "Simulation is finished\n",
      "\n",
      "Time spent  0.953125\n",
      "------------------------------------\n",
      "       Вероятности состояний        \n",
      "------------------------------------\n",
      " №  |     Числ      |      ИМ       \n",
      "------------------------------------\n",
      " 0  |   0.049841    |   0.049209    \n",
      " 1  |    0.13286    |    0.13181    \n",
      " 2  |    0.18476    |    0.18292    \n",
      " 3  |    0.18195    |    0.18091    \n",
      " 4  |    0.14595    |    0.14683    \n",
      " 5  |    0.10403    |    0.10489    \n",
      " 6  |   0.069852    |   0.070424    \n",
      " 7  |   0.045764    |   0.046102    \n",
      " 8  |   0.029764    |   0.030399    \n",
      " 9  |   0.019336    |   0.019967    \n",
      "------------------------------------\n",
      "\n"
     ]
    }
   ],
   "source": [
    "from most_queue.theory import m_d_n_calc\n",
    "\n",
    "qs = QueueingSystemSimulator(n)\n",
    "\n",
    "qs.set_sources(l, 'M')\n",
    "qs.set_servers(1.0 / mu, 'D')\n",
    "\n",
    "qs.run(num_of_jobs)\n",
    "\n",
    "mdn = m_d_n_calc.M_D_n(l, 1 / mu, n)\n",
    "p_ch = mdn.calc_p()\n",
    "p_im = qs.get_p()\n",
    "\n",
    "print(\"Time spent \", qs.time_spent)\n",
    "\n",
    "probs_print(p_im, p_ch, 10)"
   ]
  }
 ],
 "metadata": {
  "kernelspec": {
   "display_name": "Python 3",
   "language": "python",
   "name": "python3"
  },
  "language_info": {
   "codemirror_mode": {
    "name": "ipython",
    "version": 2
   },
   "file_extension": ".py",
   "mimetype": "text/x-python",
   "name": "python",
   "nbconvert_exporter": "python",
   "pygments_lexer": "ipython2",
   "version": "2.7.6"
  }
 },
 "nbformat": 4,
 "nbformat_minor": 0
}
