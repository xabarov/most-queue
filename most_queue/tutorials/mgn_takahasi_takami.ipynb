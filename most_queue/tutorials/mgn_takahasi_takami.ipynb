{
 "cells": [
  {
   "cell_type": "markdown",
   "source": [],
   "metadata": {
    "collapsed": false,
    "pycharm": {
     "name": "#%% md\n"
    }
   }
  },
  {
   "cell_type": "markdown",
   "source": [
    "# Тестирование метода Такахаси-Таками для расчета СМО М/H2/n\n",
    "\n",
    "При коэфф вариации времени обслуживания < 1 параметры аппроксимирующего Н2-распределения\n",
    "являются комплексными, что не мешает получению осмысленных результатов\n",
    "\n",
    "Для верификации используется ИМ\n",
    "\n",
    "Импорт необходимых модулей"
   ],
   "metadata": {
    "collapsed": false,
    "pycharm": {
     "name": "#%% md\n"
    }
   }
  },
  {
   "cell_type": "code",
   "execution_count": 2,
   "outputs": [],
   "source": [
    "import math\n",
    "from most_queue.sim import smo_im\n",
    "from most_queue.sim import rand_destribution as rd\n",
    "import time\n",
    "from most_queue.theory.mgn_tt import MGnCalc\n"
   ],
   "metadata": {
    "collapsed": false,
    "pycharm": {
     "name": "#%%\n"
    }
   }
  },
  {
   "cell_type": "markdown",
   "source": [
    "Задаем входные параметры"
   ],
   "metadata": {
    "collapsed": false,
    "pycharm": {
     "name": "#%% md\n"
    }
   }
  },
  {
   "cell_type": "code",
   "execution_count": 4,
   "outputs": [],
   "source": [
    "n = 3  # число каналов\n",
    "l = 1.0  # интенсивность вх потока\n",
    "ro = 0.8  # коэфф загрузки\n",
    "b1 = n * ro / l  # ср время обслуживания\n",
    "num_of_jobs = 800000  # число обсл заявок ИМ\n",
    "b_coev = [0.42, 1.5]  # два варианта коэфф вариации времени обсл, запустим расчет и ИМ для каждого из них"
   ],
   "metadata": {
    "collapsed": false,
    "pycharm": {
     "name": "#%%\n"
    }
   }
  },
  {
   "cell_type": "markdown",
   "source": [
    "Запуск цикла по коэфф. вариации:"
   ],
   "metadata": {
    "collapsed": false,
    "pycharm": {
     "name": "#%% md\n"
    }
   }
  },
  {
   "cell_type": "code",
   "execution_count": 5,
   "outputs": [
    {
     "name": "stdout",
     "output_type": "stream",
     "text": [
      "Start simulation...\n"
     ]
    },
    {
     "name": "stderr",
     "output_type": "stream",
     "text": [
      "100%|██████████| 800000/800000 [00:02<00:00, 304917.05it/s]\n"
     ]
    },
    {
     "name": "stdout",
     "output_type": "stream",
     "text": [
      "Start simulation...\n"
     ]
    },
    {
     "name": "stderr",
     "output_type": "stream",
     "text": [
      "100%|██████████| 800000/800000 [00:02<00:00, 309485.46it/s]\n"
     ]
    }
   ],
   "source": [
    "for k in range(len(b_coev)):\n",
    "    #  расчет начальных моментов времени обслуживания по заданному среднему и коэфф вариации\n",
    "    b = [0.0] * 3\n",
    "    alpha = 1 / (b_coev[k] ** 2)\n",
    "    b[0] = b1\n",
    "    b[1] = math.pow(b[0], 2) * (math.pow(b_coev[k], 2) + 1)\n",
    "    b[2] = b[1] * b[0] * (1.0 + 2 / alpha)\n",
    "\n",
    "    tt_start = time.process_time()\n",
    "    #  запуск метода Такахаси-Таками\n",
    "    tt = MGnCalc(n, l, b)\n",
    "    tt.run()\n",
    "    # получение результатов численных расчетов\n",
    "    p_tt = tt.get_p()\n",
    "    v_tt = tt.get_v()\n",
    "    tt_time = time.process_time() - tt_start\n",
    "    # также можно узнать сколько итераций потребовалось\n",
    "    num_of_iter = tt.num_of_iter_\n",
    "\n",
    "    # запуск ИМ для верификации результатов\n",
    "    im_start = time.process_time()\n",
    "\n",
    "    smo = smo_im.SmoIm(n)\n",
    "\n",
    "    # задаем вх поток заявок. М - экспоненциальный с интенсивностью l\n",
    "    smo.set_sources(l, 'M')\n",
    "\n",
    "    # задаем параметры каналов обслуживания Гамма-распределением.\n",
    "    # Параметры распределения подбираем с помощью метода библиотеки random_distribution\n",
    "    gamma_params = rd.Gamma.get_mu_alpha([b[0], b[1]])\n",
    "    smo.set_servers(gamma_params, 'Gamma')\n",
    "\n",
    "    # Запуск ИМ\n",
    "    smo.run(num_of_jobs)\n",
    "\n",
    "    # Получение результатов\n",
    "    p = smo.get_p()\n",
    "    v_im = smo.v\n",
    "    im_time = time.process_time() - im_start"
   ],
   "metadata": {
    "collapsed": false,
    "pycharm": {
     "name": "#%%\n"
    }
   }
  },
  {
   "cell_type": "markdown",
   "source": [
    "Вывод результатов расчета"
   ],
   "metadata": {
    "collapsed": false,
    "pycharm": {
     "name": "#%% md\n"
    }
   }
  },
  {
   "cell_type": "code",
   "execution_count": 6,
   "outputs": [
    {
     "name": "stdout",
     "output_type": "stream",
     "text": [
      "\n",
      "Сравнение результатов расчета методом Такахаси-Таками и ИМ.\n",
      "ИМ - M/Gamma/3 \n",
      "Такахаси-Таками - M/H2/3 с комплексными параметрами\n",
      "Коэффициент загрузки: 0.80\n",
      "Коэффициент вариации времени обслуживания: 1.50\n",
      "\n",
      "Количество итераций алгоритма Такахаси-Таками:  26 \n",
      "Время работы алгоритма Такахаси-Таками: 0.047 c\n",
      "Время работы ИМ: 2.594 c\n",
      "Первые 10 вероятностей состояний СМО\n",
      " № |     Числ      |      ИМ       \n",
      "--------------------------------\n",
      " 0  |    0.0583     |    0.0592     \n",
      " 1  |     0.136     |     0.137     \n",
      " 2  |     0.153     |     0.157     \n",
      " 3  |     0.103     |    0.0985     \n",
      " 4  |    0.0784     |    0.0782     \n",
      " 5  |    0.0641     |    0.0662     \n",
      " 6  |    0.0542     |    0.0556     \n",
      " 7  |    0.0465     |    0.0474     \n",
      " 8  |    0.0402     |    0.0409     \n",
      " 9  |    0.0348     |    0.0356     \n",
      " 10 |    0.0303     |    0.0308     \n",
      "\n",
      "\n",
      "Начальные моменты времени пребывания в СМО\n",
      " № |     Числ      |      ИМ       \n",
      "--------------------------------\n",
      " 1  |     6.54      |     6.37      \n",
      " 2  |     93.5      |     87.5      \n",
      " 3  |   1.97e+03    |   1.74e+03    \n"
     ]
    }
   ],
   "source": [
    "print(\"\\nСравнение результатов расчета методом Такахаси-Таками и ИМ.\\n\"\n",
    "      \"ИМ - M/Gamma/{0:^2d}\\nТакахаси-Таками - M/H2/{0:^2d}\"\n",
    "      \"с комплексными параметрами\\n\"\n",
    "      \"Коэффициент загрузки: {1:^1.2f}\\nКоэффициент вариации времени обслуживания: {2:^1.2f}\\n\".format(n, ro, b_coev[k]))\n",
    "print(\"Количество итераций алгоритма Такахаси-Таками: {0:^4d}\".format(num_of_iter))\n",
    "print(\"Время работы алгоритма Такахаси-Таками: {0:^5.3f} c\".format(tt_time))\n",
    "print(\"Время работы ИМ: {0:^5.3f} c\".format(im_time))\n",
    "print(\"{0:^25s}\".format(\"Первые 10 вероятностей состояний СМО\"))\n",
    "print(\"{0:^3s}|{1:^15s}|{2:^15s}\".format(\"№\", \"Числ\", \"ИМ\"))\n",
    "print(\"-\" * 32)\n",
    "for i in range(11):\n",
    "    print(\"{0:^4d}|{1:^15.3g}|{2:^15.3g}\".format(i, p_tt[i], p[i]))\n",
    "\n",
    "print(\"\\n\")\n",
    "print(\"{0:^25s}\".format(\"Начальные моменты времени пребывания в СМО\"))\n",
    "print(\"{0:^3s}|{1:^15s}|{2:^15s}\".format(\"№\", \"Числ\", \"ИМ\"))\n",
    "print(\"-\" * 32)\n",
    "for i in range(3):\n",
    "    print(\"{0:^4d}|{1:^15.3g}|{2:^15.3g}\".format(i + 1, v_tt[i], v_im[i]))"
   ],
   "metadata": {
    "collapsed": false,
    "pycharm": {
     "name": "#%%\n"
    }
   }
  },
  {
   "cell_type": "code",
   "execution_count": null,
   "outputs": [],
   "source": [],
   "metadata": {
    "collapsed": false,
    "pycharm": {
     "name": "#%%\n"
    }
   }
  }
 ],
 "metadata": {
  "kernelspec": {
   "display_name": "Python 3",
   "language": "python",
   "name": "python3"
  },
  "language_info": {
   "codemirror_mode": {
    "name": "ipython",
    "version": 2
   },
   "file_extension": ".py",
   "mimetype": "text/x-python",
   "name": "python",
   "nbconvert_exporter": "python",
   "pygments_lexer": "ipython2",
   "version": "2.7.6"
  }
 },
 "nbformat": 4,
 "nbformat_minor": 0
}