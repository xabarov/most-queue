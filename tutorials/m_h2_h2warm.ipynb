{
 "cells": [
  {
   "cell_type": "markdown",
   "metadata": {
    "pycharm": {
     "name": "#%% md\n"
    }
   },
   "source": [
    "# Calculation of M/H2/n Queueing System with H2-Warming\n",
    "\n",
    "### On the Warming Mode\n",
    "The \"warming\" mode is activated if the system was empty (no requests were being served and no requests were in queue) and a new request arrived. In this case, the service for the arriving request will start after a random period of \"warming\" for the system.\n",
    "Additionally, all incoming requests during the \"warming\" period of the system are placed in the queue and are not serviced until the end of this period.\n",
    "\n",
    "### About the Algorithm\n",
    "In this implementation, it is assumed that the service time and warming time follow *H2*-distributions, each with its own parameters. The parameters of the *H2*-distributions are selected based on the specified average values and coefficients of variation.\n",
    "\n",
    "The algorithm allows calculating the system for any coefficient of variation in service time. Even when the coefficient of variation in service time is less than 1, the parameters of the approximating *N2*-distribution can be complex, which does not prevent obtaining meaningful results.\n",
    "\n",
    "For verification, simulation modeling is used."
   ]
  },
  {
   "cell_type": "markdown",
   "metadata": {
    "pycharm": {
     "name": "#%% md\n"
    }
   },
   "source": [
    "### Set paramrameters"
   ]
  },
  {
   "cell_type": "code",
   "execution_count": 5,
   "metadata": {
    "pycharm": {
     "name": "#%%\n"
    }
   },
   "outputs": [],
   "source": [
    "from most_queue.distr_utils.distribution_fitting import gamma_moments_by_mean_and_cv\n",
    "from most_queue.general.tables import probs_print, times_print\n",
    "from most_queue.distributions import GammaDistribution\n",
    "from most_queue.sim.vacations import VacationQueueingSystemSimulator\n",
    "from most_queue.theory.vacations.m_h2_h2warm import MH2nH2Warm\n",
    "\n",
    "n = 5  # number of channels \n",
    "l = 1.0  # arrival rate \n",
    "utilzation_factor = 0.7  # utilization factor \n",
    "b1 = n * utilzation_factor  # Average service time \n",
    "b1_warm = n * 0.2  # Average warming time\n",
    "num_of_jobs = 1000000  # Number of jobs to be served by simulation\n",
    "b_cv = 1.1  # Coefficient of variation of service time \n",
    "b_cv_warm = (\n",
    "    1.3  # Coefficient of variation of warming time \n",
    ")"
   ]
  },
  {
   "cell_type": "markdown",
   "metadata": {
    "pycharm": {
     "name": "#%% md\n"
    }
   },
   "source": [
    "### Set initial moments of service time"
   ]
  },
  {
   "cell_type": "code",
   "execution_count": 2,
   "metadata": {
    "pycharm": {
     "name": "#%%\n"
    }
   },
   "outputs": [],
   "source": [
    "b = gamma_moments_by_mean_and_cv(b1, b_cv)"
   ]
  },
  {
   "cell_type": "markdown",
   "metadata": {
    "pycharm": {
     "name": "#%% md\n"
    }
   },
   "source": []
  },
  {
   "cell_type": "markdown",
   "metadata": {
    "pycharm": {
     "name": "#%% md\n"
    }
   },
   "source": [
    "### Set warm-up moments of service time"
   ]
  },
  {
   "cell_type": "code",
   "execution_count": 3,
   "metadata": {
    "pycharm": {
     "name": "#%%\n"
    }
   },
   "outputs": [],
   "source": [
    "b_w = gamma_moments_by_mean_and_cv(b1_warm, b_cv_warm)"
   ]
  },
  {
   "cell_type": "markdown",
   "metadata": {
    "pycharm": {
     "name": "#%% md\n"
    }
   },
   "source": [
    "### Run simulation"
   ]
  },
  {
   "cell_type": "code",
   "execution_count": 4,
   "metadata": {
    "pycharm": {
     "name": "#%%\n"
    }
   },
   "outputs": [
    {
     "name": "stdout",
     "output_type": "stream",
     "text": [
      "Start simulation\n"
     ]
    },
    {
     "name": "stderr",
     "output_type": "stream",
     "text": [
      "Job served:    | 0/100 [00:00<?, ?it/s]10000/1000000:   1%|          | 1/100 [00:00<00:08, 11.08it/s]10000/1000000:   2%|▏         | 2/100 [00:00<00:08, 10.98it/s]20000/1000000:   2%|▏         | 2/100 [00:00<00:08, 10.98it/s]30000/1000000:   3%|▎         | 3/100 [00:00<00:08, 10.98it/s]30000/1000000:   4%|▍         | 4/100 [00:00<00:08, 11.07it/s]40000/1000000:   4%|▍         | 4/100 [00:00<00:08, 11.07it/s]50000/1000000:   5%|▌         | 5/100 [00:00<00:08, 11.07it/s]50000/1000000:   6%|▌         | 6/100 [00:00<00:08, 10.55it/s]60000/1000000:   6%|▌         | 6/100 [00:00<00:08, 10.55it/s]70000/1000000:   7%|▋         | 7/100 [00:00<00:08, 10.55it/s]70000/1000000:   8%|▊         | 8/100 [00:00<00:08, 10.68it/s]80000/1000000:   8%|▊         | 8/100 [00:00<00:08, 10.68it/s]90000/1000000:   9%|▉         | 9/100 [00:00<00:08, 10.68it/s]90000/1000000:  10%|█         | 10/100 [00:00<00:08, 10.71it/s]100000/1000000:  10%|█         | 10/100 [00:00<00:08, 10.71it/s]110000/1000000:  11%|█         | 11/100 [00:01<00:08, 10.71it/s]110000/1000000:  12%|█▏        | 12/100 [00:01<00:08, 10.71it/s]120000/1000000:  12%|█▏        | 12/100 [00:01<00:08, 10.71it/s]130000/1000000:  13%|█▎        | 13/100 [00:01<00:08, 10.71it/s]130000/1000000:  14%|█▍        | 14/100 [00:01<00:08, 10.65it/s]140000/1000000:  14%|█▍        | 14/100 [00:01<00:08, 10.65it/s]150000/1000000:  15%|█▌        | 15/100 [00:01<00:07, 10.65it/s]150000/1000000:  16%|█▌        | 16/100 [00:01<00:07, 10.60it/s]160000/1000000:  16%|█▌        | 16/100 [00:01<00:07, 10.60it/s]170000/1000000:  17%|█▋        | 17/100 [00:01<00:07, 10.60it/s]170000/1000000:  18%|█▊        | 18/100 [00:01<00:07, 10.66it/s]180000/1000000:  18%|█▊        | 18/100 [00:01<00:07, 10.66it/s]190000/1000000:  19%|█▉        | 19/100 [00:01<00:07, 10.66it/s]190000/1000000:  20%|██        | 20/100 [00:01<00:07, 10.68it/s]200000/1000000:  20%|██        | 20/100 [00:01<00:07, 10.68it/s]210000/1000000:  21%|██        | 21/100 [00:01<00:07, 10.68it/s]210000/1000000:  22%|██▏       | 22/100 [00:02<00:07, 10.71it/s]220000/1000000:  22%|██▏       | 22/100 [00:02<00:07, 10.71it/s]230000/1000000:  23%|██▎       | 23/100 [00:02<00:07, 10.71it/s]230000/1000000:  24%|██▍       | 24/100 [00:02<00:07, 10.59it/s]240000/1000000:  24%|██▍       | 24/100 [00:02<00:07, 10.59it/s]250000/1000000:  25%|██▌       | 25/100 [00:02<00:07, 10.59it/s]250000/1000000:  26%|██▌       | 26/100 [00:02<00:07, 10.54it/s]260000/1000000:  26%|██▌       | 26/100 [00:02<00:07, 10.54it/s]270000/1000000:  27%|██▋       | 27/100 [00:02<00:06, 10.54it/s]270000/1000000:  28%|██▊       | 28/100 [00:02<00:06, 10.35it/s]280000/1000000:  28%|██▊       | 28/100 [00:02<00:06, 10.35it/s]290001/1000000:  29%|██▉       | 29/100 [00:02<00:06, 10.35it/s]290001/1000000:  30%|███       | 30/100 [00:02<00:06, 10.25it/s]300000/1000000:  30%|███       | 30/100 [00:02<00:06, 10.25it/s]310000/1000000:  31%|███       | 31/100 [00:02<00:06, 10.25it/s]310000/1000000:  32%|███▏      | 32/100 [00:03<00:06, 10.20it/s]320000/1000000:  32%|███▏      | 32/100 [00:03<00:06, 10.20it/s]330000/1000000:  33%|███▎      | 33/100 [00:03<00:06, 10.20it/s]330000/1000000:  34%|███▍      | 34/100 [00:03<00:06, 10.33it/s]340000/1000000:  34%|███▍      | 34/100 [00:03<00:06, 10.33it/s]350000/1000000:  35%|███▌      | 35/100 [00:03<00:06, 10.33it/s]350000/1000000:  36%|███▌      | 36/100 [00:03<00:06, 10.34it/s]360000/1000000:  36%|███▌      | 36/100 [00:03<00:06, 10.34it/s]370000/1000000:  37%|███▋      | 37/100 [00:03<00:06, 10.34it/s]370000/1000000:  38%|███▊      | 38/100 [00:03<00:06, 10.33it/s]380000/1000000:  38%|███▊      | 38/100 [00:03<00:06, 10.33it/s]390000/1000000:  39%|███▉      | 39/100 [00:03<00:05, 10.33it/s]390000/1000000:  40%|████      | 40/100 [00:03<00:05, 10.40it/s]400000/1000000:  40%|████      | 40/100 [00:03<00:05, 10.40it/s]410000/1000000:  41%|████      | 41/100 [00:03<00:05, 10.40it/s]410000/1000000:  42%|████▏     | 42/100 [00:04<00:05, 10.34it/s]420000/1000000:  42%|████▏     | 42/100 [00:04<00:05, 10.34it/s]430000/1000000:  43%|████▎     | 43/100 [00:04<00:05, 10.34it/s]430000/1000000:  44%|████▍     | 44/100 [00:04<00:05, 10.09it/s]440000/1000000:  44%|████▍     | 44/100 [00:04<00:05, 10.09it/s]450000/1000000:  45%|████▌     | 45/100 [00:04<00:05, 10.09it/s]450000/1000000:  46%|████▌     | 46/100 [00:04<00:05, 10.16it/s]460000/1000000:  46%|████▌     | 46/100 [00:04<00:05, 10.16it/s]470000/1000000:  47%|████▋     | 47/100 [00:04<00:05, 10.16it/s]470000/1000000:  48%|████▊     | 48/100 [00:04<00:05, 10.33it/s]480000/1000000:  48%|████▊     | 48/100 [00:04<00:05, 10.33it/s]490000/1000000:  49%|████▉     | 49/100 [00:04<00:04, 10.33it/s]490000/1000000:  50%|█████     | 50/100 [00:04<00:04, 10.22it/s]500000/1000000:  50%|█████     | 50/100 [00:04<00:04, 10.22it/s]510000/1000000:  51%|█████     | 51/100 [00:04<00:04, 10.22it/s]510000/1000000:  52%|█████▏    | 52/100 [00:04<00:04, 10.11it/s]520000/1000000:  52%|█████▏    | 52/100 [00:04<00:04, 10.11it/s]530000/1000000:  53%|█████▎    | 53/100 [00:05<00:04, 10.11it/s]530000/1000000:  54%|█████▍    | 54/100 [00:05<00:04, 10.22it/s]540000/1000000:  54%|█████▍    | 54/100 [00:05<00:04, 10.22it/s]550000/1000000:  55%|█████▌    | 55/100 [00:05<00:04, 10.22it/s]550000/1000000:  56%|█████▌    | 56/100 [00:05<00:04, 10.16it/s]560000/1000000:  56%|█████▌    | 56/100 [00:05<00:04, 10.16it/s]570001/1000000:  57%|█████▋    | 57/100 [00:05<00:04, 10.16it/s]570001/1000000:  58%|█████▊    | 58/100 [00:05<00:04, 10.00it/s]580001/1000000:  58%|█████▊    | 58/100 [00:05<00:04, 10.00it/s]590000/1000000:  59%|█████▉    | 59/100 [00:05<00:04, 10.00it/s]590000/1000000:  60%|██████    | 60/100 [00:05<00:03, 10.12it/s]600000/1000000:  60%|██████    | 60/100 [00:05<00:03, 10.12it/s]610000/1000000:  61%|██████    | 61/100 [00:05<00:03, 10.12it/s]610000/1000000:  62%|██████▏   | 62/100 [00:05<00:03, 10.03it/s]620000/1000000:  62%|██████▏   | 62/100 [00:05<00:03, 10.03it/s]630000/1000000:  63%|██████▎   | 63/100 [00:06<00:03, 10.03it/s]630000/1000000:  64%|██████▍   | 64/100 [00:06<00:03, 10.34it/s]640000/1000000:  64%|██████▍   | 64/100 [00:06<00:03, 10.34it/s]650000/1000000:  65%|██████▌   | 65/100 [00:06<00:03, 10.34it/s]650000/1000000:  66%|██████▌   | 66/100 [00:06<00:03, 10.28it/s]660000/1000000:  66%|██████▌   | 66/100 [00:06<00:03, 10.28it/s]670000/1000000:  67%|██████▋   | 67/100 [00:06<00:03, 10.28it/s]670000/1000000:  68%|██████▊   | 68/100 [00:06<00:03,  9.93it/s]680000/1000000:  68%|██████▊   | 68/100 [00:06<00:03,  9.93it/s]690000/1000000:  69%|██████▉   | 69/100 [00:06<00:03,  9.93it/s]690000/1000000:  70%|███████   | 70/100 [00:06<00:02, 10.20it/s]700000/1000000:  70%|███████   | 70/100 [00:06<00:02, 10.20it/s]710000/1000000:  71%|███████   | 71/100 [00:06<00:02, 10.20it/s]710000/1000000:  72%|███████▏  | 72/100 [00:06<00:02, 10.30it/s]720000/1000000:  72%|███████▏  | 72/100 [00:06<00:02, 10.30it/s]730000/1000000:  73%|███████▎  | 73/100 [00:07<00:02, 10.30it/s]730000/1000000:  74%|███████▍  | 74/100 [00:07<00:02, 10.46it/s]740000/1000000:  74%|███████▍  | 74/100 [00:07<00:02, 10.46it/s]750000/1000000:  75%|███████▌  | 75/100 [00:07<00:02, 10.46it/s]750000/1000000:  76%|███████▌  | 76/100 [00:07<00:02, 10.48it/s]760000/1000000:  76%|███████▌  | 76/100 [00:07<00:02, 10.48it/s]770000/1000000:  77%|███████▋  | 77/100 [00:07<00:02, 10.48it/s]770000/1000000:  78%|███████▊  | 78/100 [00:07<00:02, 10.41it/s]780000/1000000:  78%|███████▊  | 78/100 [00:07<00:02, 10.41it/s]790000/1000000:  79%|███████▉  | 79/100 [00:07<00:02, 10.41it/s]790000/1000000:  80%|████████  | 80/100 [00:07<00:01, 10.49it/s]800000/1000000:  80%|████████  | 80/100 [00:07<00:01, 10.49it/s]810000/1000000:  81%|████████  | 81/100 [00:07<00:01, 10.49it/s]810000/1000000:  82%|████████▏ | 82/100 [00:07<00:01, 10.46it/s]820000/1000000:  82%|████████▏ | 82/100 [00:07<00:01, 10.46it/s]830000/1000000:  83%|████████▎ | 83/100 [00:08<00:01, 10.46it/s]830000/1000000:  84%|████████▍ | 84/100 [00:08<00:01, 10.48it/s]840000/1000000:  84%|████████▍ | 84/100 [00:08<00:01, 10.48it/s]850000/1000000:  85%|████████▌ | 85/100 [00:08<00:01, 10.48it/s]850000/1000000:  86%|████████▌ | 86/100 [00:08<00:01, 10.62it/s]860000/1000000:  86%|████████▌ | 86/100 [00:08<00:01, 10.62it/s]870000/1000000:  87%|████████▋ | 87/100 [00:08<00:01, 10.62it/s]870000/1000000:  88%|████████▊ | 88/100 [00:08<00:01, 10.54it/s]880000/1000000:  88%|████████▊ | 88/100 [00:08<00:01, 10.54it/s]890000/1000000:  89%|████████▉ | 89/100 [00:08<00:01, 10.54it/s]890000/1000000:  90%|█████████ | 90/100 [00:08<00:00, 10.64it/s]900000/1000000:  90%|█████████ | 90/100 [00:08<00:00, 10.64it/s]910000/1000000:  91%|█████████ | 91/100 [00:08<00:00, 10.64it/s]910000/1000000:  92%|█████████▏| 92/100 [00:08<00:00, 10.67it/s]920000/1000000:  92%|█████████▏| 92/100 [00:08<00:00, 10.67it/s]930000/1000000:  93%|█████████▎| 93/100 [00:08<00:00, 10.67it/s]930000/1000000:  94%|█████████▍| 94/100 [00:09<00:00, 10.75it/s]940000/1000000:  94%|█████████▍| 94/100 [00:09<00:00, 10.75it/s]950000/1000000:  95%|█████████▌| 95/100 [00:09<00:00, 10.75it/s]950000/1000000:  96%|█████████▌| 96/100 [00:09<00:00, 10.74it/s]960000/1000000:  96%|█████████▌| 96/100 [00:09<00:00, 10.74it/s]970000/1000000:  97%|█████████▋| 97/100 [00:09<00:00, 10.74it/s]970000/1000000:  98%|█████████▊| 98/100 [00:09<00:00, 10.78it/s]980000/1000000:  98%|█████████▊| 98/100 [00:09<00:00, 10.78it/s]990000/1000000:  99%|█████████▉| 99/100 [00:09<00:00, 10.78it/s]990000/1000000: 100%|██████████| 100/100 [00:09<00:00, 10.69it/s]1000000/1000000: 100%|██████████| 100/100 [00:09<00:00, 10.69it/s]1000000/1000000: 100%|██████████| 100/100 [00:09<00:00, 10.43it/s]\n"
     ]
    },
    {
     "name": "stdout",
     "output_type": "stream",
     "text": [
      "Simulation is finished\n",
      "\n"
     ]
    }
   ],
   "source": [
    "qs = VacationQueueingSystemSimulator(n)  # queueing system simulator object\n",
    "qs.set_sources(l, 'M')  # set sources with exponential distribution\n",
    "\n",
    "gamma_params = GammaDistribution.get_params(b)\n",
    "qs.set_servers(gamma_params, 'Gamma')  # set servers with Gamma distribution\n",
    "\n",
    "gamma_params_warm = GammaDistribution.get_params(b_w)\n",
    "qs.set_warm(gamma_params_warm, 'Gamma')  # set warm-up servers with Gamma distribution\n",
    "\n",
    "sim_results = qs.run(num_of_jobs)  # run simulation"
   ]
  },
  {
   "cell_type": "markdown",
   "metadata": {
    "pycharm": {
     "name": "#%% md\n"
    }
   },
   "source": [
    "### Run numerical method"
   ]
  },
  {
   "cell_type": "code",
   "execution_count": 5,
   "metadata": {
    "pycharm": {
     "name": "#%%\n"
    }
   },
   "outputs": [],
   "source": [
    "tt = MH2nH2Warm(n)  # create object of the numerical method\n",
    "\n",
    "tt.set_sources(l)\n",
    "tt.set_servers(b, b_w)\n",
    "\n",
    "calc_results = tt.run()  # run numerical method\n",
    "\n",
    "num_of_iter = tt.num_of_iter_  # number of iterations"
   ]
  },
  {
   "cell_type": "markdown",
   "metadata": {
    "pycharm": {
     "name": "#%% md\n"
    }
   },
   "source": [
    "### Print results"
   ]
  },
  {
   "cell_type": "code",
   "execution_count": 6,
   "metadata": {
    "pycharm": {
     "name": "#%%\n"
    }
   },
   "outputs": [
    {
     "name": "stdout",
     "output_type": "stream",
     "text": [
      "\n",
      "Comparison of results calculated by the Takacs-Takaichi method and simulation.\n",
      "Sim - M/Gamma/5  with Gamma warming\n",
      "Takacs-Takaichi - M/H2/5  with H2 warmingUtilization: 0.70\n",
      "Variation coefficient of service time 1.100\n",
      "Variation coefficient of warming time 1.300\n",
      "Number of iterations of the Takacs-Takaichi algorithm:  41 \n",
      "Simulation duration: 11.95242 sec\n",
      "Calculation duration: 1.25347 sec\n",
      "------------------------------------\n",
      "      Probabilities of states       \n",
      "------------------------------------\n",
      " #  |      Num      |      Sim      \n",
      "------------------------------------\n",
      " 0  |   0.021523    |   0.020928    \n",
      " 1  |   0.086511    |   0.086225    \n",
      " 2  |    0.15644    |    0.15649    \n",
      " 3  |    0.18445    |    0.18456    \n",
      " 4  |    0.16128    |    0.16072    \n",
      " 5  |    0.11115    |    0.11039    \n",
      " 6  |   0.078321    |   0.078437    \n",
      " 7  |   0.055874    |   0.056839    \n",
      " 8  |   0.040129    |   0.040813    \n",
      " 9  |   0.028924    |   0.029299    \n",
      "------------------------------------\n",
      "\n",
      "\n",
      "Initial moments of soujorn time in the system\n",
      "---------------------------------------------\n",
      "       #       |      Num      |      Sim      \n",
      "---------------------------------------------\n",
      "       1       |    4.5197     |    4.5504     \n",
      "       2       |    39.436     |    39.741     \n",
      "       3       |    502.28     |    505.26     \n",
      "\n"
     ]
    }
   ],
   "source": [
    "print(\n",
    "    \"\\nComparison of results calculated by the Takacs-Takaichi method and simulation.\\n\"\n",
    "    f\"Sim - M/Gamma/{n:^2d} with Gamma warming\\n\"\n",
    "    f\"Takacs-Takaichi - M/H2/{n:^2d} with H2 warming\"\n",
    "    f\"Utilization: {calc_results.utilization:^1.2f}\"\n",
    ")\n",
    "print(f'Variation coefficient of service time {b_cv:0.3f}')\n",
    "print(f'Variation coefficient of warming time {b_cv_warm:0.3f}')\n",
    "print(f\"Number of iterations of the Takacs-Takaichi algorithm: {num_of_iter:^4d}\")\n",
    "print(f\"Simulation duration: {sim_results.duration:.5f} sec\")\n",
    "print(f\"Calculation duration: {calc_results.duration:.5f} sec\")\n",
    "\n",
    "probs_print(sim_results.p, calc_results.p, 10)\n",
    "\n",
    "times_print(sim_results.v, calc_results.v, is_w=False)"
   ]
  }
 ],
 "metadata": {
  "kernelspec": {
   "display_name": ".venv",
   "language": "python",
   "name": "python3"
  },
  "language_info": {
   "codemirror_mode": {
    "name": "ipython",
    "version": 3
   },
   "file_extension": ".py",
   "mimetype": "text/x-python",
   "name": "python",
   "nbconvert_exporter": "python",
   "pygments_lexer": "ipython3",
   "version": "3.12.3"
  }
 },
 "nbformat": 4,
 "nbformat_minor": 1
}
