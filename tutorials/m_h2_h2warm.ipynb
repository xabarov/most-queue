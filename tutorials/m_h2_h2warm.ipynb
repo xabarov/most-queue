{
 "cells": [
  {
   "cell_type": "markdown",
   "metadata": {
    "pycharm": {
     "name": "#%% md\n"
    }
   },
   "source": [
    "# Calculation of M/H2/n Queueing System with H2-Warming\n",
    "\n",
    "### On the Warming Mode\n",
    "The \"warming\" mode is activated if the system was empty (no requests were being served and no requests were in queue) and a new request arrived. In this case, the service for the arriving request will start after a random period of \"warming\" for the system.\n",
    "Additionally, all incoming requests during the \"warming\" period of the system are placed in the queue and are not serviced until the end of this period.\n",
    "\n",
    "### About the Algorithm\n",
    "In this implementation, it is assumed that the service time and warming time follow *H2*-distributions, each with its own parameters. The parameters of the *H2*-distributions are selected based on the specified average values and coefficients of variation.\n",
    "\n",
    "The algorithm allows calculating the system for any coefficient of variation in service time. Even when the coefficient of variation in service time is less than 1, the parameters of the approximating *N2*-distribution can be complex, which does not prevent obtaining meaningful results.\n",
    "\n",
    "For verification, simulation modeling is used."
   ]
  },
  {
   "cell_type": "markdown",
   "metadata": {
    "pycharm": {
     "name": "#%% md\n"
    }
   },
   "source": [
    "### Set paramrameters"
   ]
  },
  {
   "cell_type": "code",
   "execution_count": 1,
   "metadata": {
    "pycharm": {
     "name": "#%%\n"
    }
   },
   "outputs": [],
   "source": [
    "from most_queue.theory.m_h2_h2warm import Mh2h2Warm\n",
    "from most_queue.sim.qs_sim import QueueingSystemSimulator\n",
    "from most_queue.rand_distribution import Gamma\n",
    "from most_queue.general_utils.tables import probs_print, times_print\n",
    "\n",
    "import math\n",
    "import time\n",
    "\n",
    "n = 5  # number of channels # Number of channels\n",
    "l = 1.0  # Intensity of the input stream # Intensity of the input stream\n",
    "ro = 0.7  # Traffic intensity # Traffic intensity\n",
    "b1 = n * ro  # Average service time # Average service time\n",
    "b1_warm = n * 0.2  # Average warming time # Average warming time\n",
    "num_of_jobs = 1000000  # Number of jobs to be served by IM # Number of jobs to be served by IM\n",
    "b_coev = 1.1  # Coefficient of variation of service time # Coefficient of variation of service time\n",
    "b_coev_warm = 1.3  # Coefficient of variation of warming time # Coefficient of variation of warming time\n",
    "verbose = False  # Do not print explanations during calculations # Do not print explanations during calculations\n"
   ]
  },
  {
   "cell_type": "markdown",
   "metadata": {
    "pycharm": {
     "name": "#%% md\n"
    }
   },
   "source": [
    "### Set initial moments of service time"
   ]
  },
  {
   "cell_type": "code",
   "execution_count": 2,
   "metadata": {
    "pycharm": {
     "name": "#%%\n"
    }
   },
   "outputs": [],
   "source": [
    "b = [0.0] * 3\n",
    "alpha = 1 / (b_coev ** 2)\n",
    "b[0] = b1\n",
    "b[1] = math.pow(b[0], 2) * (math.pow(b_coev, 2) + 1)\n",
    "b[2] = b[1] * b[0] * (1.0 + 2 / alpha)"
   ]
  },
  {
   "cell_type": "markdown",
   "metadata": {
    "pycharm": {
     "name": "#%% md\n"
    }
   },
   "source": []
  },
  {
   "cell_type": "markdown",
   "metadata": {
    "pycharm": {
     "name": "#%% md\n"
    }
   },
   "source": [
    "### Set warm-up moments of service time"
   ]
  },
  {
   "cell_type": "code",
   "execution_count": 3,
   "metadata": {
    "pycharm": {
     "name": "#%%\n"
    }
   },
   "outputs": [],
   "source": [
    "b_w = [0.0] * 3\n",
    "b_w[0] = b1_warm\n",
    "alpha = 1 / (b_coev_warm ** 2)\n",
    "b_w[1] = math.pow(b_w[0], 2) * (math.pow(b_coev_warm, 2) + 1)\n",
    "b_w[2] = b_w[1] * b_w[0] * (1.0 + 2 / alpha)"
   ]
  },
  {
   "cell_type": "markdown",
   "metadata": {
    "pycharm": {
     "name": "#%% md\n"
    }
   },
   "source": [
    "### Run simulation"
   ]
  },
  {
   "cell_type": "code",
   "execution_count": 4,
   "metadata": {
    "pycharm": {
     "name": "#%%\n"
    }
   },
   "outputs": [
    {
     "name": "stdout",
     "output_type": "stream",
     "text": [
      "Start simulation\n"
     ]
    },
    {
     "name": "stderr",
     "output_type": "stream",
     "text": [
      "Job served:    | 0/100 [00:00<?, ?it/s]10000/1000000:   1%|          | 1/100 [00:00<00:08, 11.25it/s]10000/1000000:   2%|▏         | 2/100 [00:00<00:09, 10.81it/s]20000/1000000:   2%|▏         | 2/100 [00:00<00:09, 10.81it/s]30000/1000000:   3%|▎         | 3/100 [00:00<00:08, 10.81it/s]30000/1000000:   4%|▍         | 4/100 [00:00<00:08, 10.83it/s]40000/1000000:   4%|▍         | 4/100 [00:00<00:08, 10.83it/s]50000/1000000:   5%|▌         | 5/100 [00:00<00:08, 10.83it/s]50000/1000000:   6%|▌         | 6/100 [00:00<00:08, 10.54it/s]60000/1000000:   6%|▌         | 6/100 [00:00<00:08, 10.54it/s]70000/1000000:   7%|▋         | 7/100 [00:00<00:08, 10.54it/s]70000/1000000:   8%|▊         | 8/100 [00:00<00:08, 10.25it/s]80000/1000000:   8%|▊         | 8/100 [00:00<00:08, 10.25it/s]90000/1000000:   9%|▉         | 9/100 [00:00<00:08, 10.25it/s]90000/1000000:  10%|█         | 10/100 [00:00<00:08, 10.38it/s]100000/1000000:  10%|█         | 10/100 [00:00<00:08, 10.38it/s]110000/1000000:  11%|█         | 11/100 [00:01<00:08, 10.38it/s]110000/1000000:  12%|█▏        | 12/100 [00:01<00:08, 10.45it/s]120000/1000000:  12%|█▏        | 12/100 [00:01<00:08, 10.45it/s]130000/1000000:  13%|█▎        | 13/100 [00:01<00:08, 10.45it/s]130000/1000000:  14%|█▍        | 14/100 [00:01<00:08, 10.24it/s]140000/1000000:  14%|█▍        | 14/100 [00:01<00:08, 10.24it/s]150000/1000000:  15%|█▌        | 15/100 [00:01<00:08, 10.24it/s]150000/1000000:  16%|█▌        | 16/100 [00:01<00:08, 10.23it/s]160000/1000000:  16%|█▌        | 16/100 [00:01<00:08, 10.23it/s]170000/1000000:  17%|█▋        | 17/100 [00:01<00:08, 10.23it/s]170000/1000000:  18%|█▊        | 18/100 [00:01<00:08,  9.97it/s]180000/1000000:  18%|█▊        | 18/100 [00:01<00:08,  9.97it/s]180000/1000000:  19%|█▉        | 19/100 [00:01<00:08,  9.86it/s]190000/1000000:  19%|█▉        | 19/100 [00:01<00:08,  9.86it/s]190000/1000000:  20%|██        | 20/100 [00:01<00:08,  9.74it/s]200000/1000000:  20%|██        | 20/100 [00:01<00:08,  9.74it/s]200000/1000000:  21%|██        | 21/100 [00:02<00:08,  9.71it/s]210000/1000000:  21%|██        | 21/100 [00:02<00:08,  9.71it/s]210000/1000000:  22%|██▏       | 22/100 [00:02<00:08,  9.69it/s]220000/1000000:  22%|██▏       | 22/100 [00:02<00:08,  9.69it/s]220000/1000000:  23%|██▎       | 23/100 [00:02<00:07,  9.67it/s]230000/1000000:  23%|██▎       | 23/100 [00:02<00:07,  9.67it/s]230000/1000000:  24%|██▍       | 24/100 [00:02<00:07,  9.68it/s]240000/1000000:  24%|██▍       | 24/100 [00:02<00:07,  9.68it/s]240000/1000000:  25%|██▌       | 25/100 [00:02<00:07,  9.67it/s]250000/1000000:  25%|██▌       | 25/100 [00:02<00:07,  9.67it/s]250000/1000000:  26%|██▌       | 26/100 [00:02<00:07,  9.67it/s]260000/1000000:  26%|██▌       | 26/100 [00:02<00:07,  9.67it/s]260000/1000000:  27%|██▋       | 27/100 [00:02<00:07,  9.64it/s]270000/1000000:  27%|██▋       | 27/100 [00:02<00:07,  9.64it/s]270000/1000000:  28%|██▊       | 28/100 [00:02<00:07,  9.62it/s]280000/1000000:  28%|██▊       | 28/100 [00:02<00:07,  9.62it/s]290001/1000000:  29%|██▉       | 29/100 [00:02<00:07,  9.62it/s]290001/1000000:  30%|███       | 30/100 [00:02<00:06, 10.03it/s]300000/1000000:  30%|███       | 30/100 [00:02<00:06, 10.03it/s]310000/1000000:  31%|███       | 31/100 [00:03<00:06, 10.03it/s]310000/1000000:  32%|███▏      | 32/100 [00:03<00:06, 10.12it/s]320000/1000000:  32%|███▏      | 32/100 [00:03<00:06, 10.12it/s]330000/1000000:  33%|███▎      | 33/100 [00:03<00:06, 10.12it/s]330000/1000000:  34%|███▍      | 34/100 [00:03<00:06,  9.92it/s]340000/1000000:  34%|███▍      | 34/100 [00:03<00:06,  9.92it/s]340000/1000000:  35%|███▌      | 35/100 [00:03<00:06,  9.86it/s]350000/1000000:  35%|███▌      | 35/100 [00:03<00:06,  9.86it/s]350000/1000000:  36%|███▌      | 36/100 [00:03<00:06,  9.83it/s]360000/1000000:  36%|███▌      | 36/100 [00:03<00:06,  9.83it/s]360000/1000000:  37%|███▋      | 37/100 [00:03<00:06,  9.69it/s]370000/1000000:  37%|███▋      | 37/100 [00:03<00:06,  9.69it/s]370000/1000000:  38%|███▊      | 38/100 [00:03<00:06,  9.65it/s]380000/1000000:  38%|███▊      | 38/100 [00:03<00:06,  9.65it/s]380000/1000000:  39%|███▉      | 39/100 [00:03<00:06,  9.57it/s]390000/1000000:  39%|███▉      | 39/100 [00:03<00:06,  9.57it/s]400000/1000000:  40%|████      | 40/100 [00:04<00:06,  9.57it/s]400000/1000000:  41%|████      | 41/100 [00:04<00:05,  9.89it/s]410000/1000000:  41%|████      | 41/100 [00:04<00:05,  9.89it/s]410000/1000000:  42%|████▏     | 42/100 [00:04<00:05,  9.83it/s]420000/1000000:  42%|████▏     | 42/100 [00:04<00:05,  9.83it/s]420000/1000000:  43%|████▎     | 43/100 [00:04<00:05,  9.72it/s]430000/1000000:  43%|████▎     | 43/100 [00:04<00:05,  9.72it/s]430000/1000000:  44%|████▍     | 44/100 [00:04<00:05,  9.69it/s]440000/1000000:  44%|████▍     | 44/100 [00:04<00:05,  9.69it/s]440000/1000000:  45%|████▌     | 45/100 [00:04<00:05,  9.67it/s]450000/1000000:  45%|████▌     | 45/100 [00:04<00:05,  9.67it/s]460000/1000000:  46%|████▌     | 46/100 [00:04<00:05,  9.67it/s]460000/1000000:  47%|████▋     | 47/100 [00:04<00:05,  9.13it/s]470000/1000000:  47%|████▋     | 47/100 [00:04<00:05,  9.13it/s]470000/1000000:  48%|████▊     | 48/100 [00:04<00:05,  9.21it/s]480000/1000000:  48%|████▊     | 48/100 [00:04<00:05,  9.21it/s]480000/1000000:  49%|████▉     | 49/100 [00:04<00:05,  9.32it/s]490000/1000000:  49%|████▉     | 49/100 [00:04<00:05,  9.32it/s]490000/1000000:  50%|█████     | 50/100 [00:05<00:05,  9.39it/s]500000/1000000:  50%|█████     | 50/100 [00:05<00:05,  9.39it/s]500000/1000000:  51%|█████     | 51/100 [00:05<00:05,  9.37it/s]510000/1000000:  51%|█████     | 51/100 [00:05<00:05,  9.37it/s]510000/1000000:  52%|█████▏    | 52/100 [00:05<00:05,  9.33it/s]520000/1000000:  52%|█████▏    | 52/100 [00:05<00:05,  9.33it/s]520000/1000000:  53%|█████▎    | 53/100 [00:05<00:05,  9.38it/s]530000/1000000:  53%|█████▎    | 53/100 [00:05<00:05,  9.38it/s]530000/1000000:  54%|█████▍    | 54/100 [00:05<00:04,  9.42it/s]540000/1000000:  54%|█████▍    | 54/100 [00:05<00:04,  9.42it/s]540000/1000000:  55%|█████▌    | 55/100 [00:05<00:04,  9.42it/s]550000/1000000:  55%|█████▌    | 55/100 [00:05<00:04,  9.42it/s]550000/1000000:  56%|█████▌    | 56/100 [00:05<00:04,  9.49it/s]560000/1000000:  56%|█████▌    | 56/100 [00:05<00:04,  9.49it/s]560000/1000000:  57%|█████▋    | 57/100 [00:05<00:04,  9.52it/s]570001/1000000:  57%|█████▋    | 57/100 [00:05<00:04,  9.52it/s]570001/1000000:  58%|█████▊    | 58/100 [00:05<00:04,  9.56it/s]580001/1000000:  58%|█████▊    | 58/100 [00:05<00:04,  9.56it/s]580001/1000000:  59%|█████▉    | 59/100 [00:06<00:04,  9.58it/s]590000/1000000:  59%|█████▉    | 59/100 [00:06<00:04,  9.58it/s]590000/1000000:  60%|██████    | 60/100 [00:06<00:04,  9.61it/s]600000/1000000:  60%|██████    | 60/100 [00:06<00:04,  9.61it/s]610000/1000000:  61%|██████    | 61/100 [00:06<00:04,  9.61it/s]610000/1000000:  62%|██████▏   | 62/100 [00:06<00:04,  9.39it/s]620000/1000000:  62%|██████▏   | 62/100 [00:06<00:04,  9.39it/s]620000/1000000:  63%|██████▎   | 63/100 [00:06<00:03,  9.41it/s]630000/1000000:  63%|██████▎   | 63/100 [00:06<00:03,  9.41it/s]640000/1000000:  64%|██████▍   | 64/100 [00:06<00:03,  9.41it/s]640000/1000000:  65%|██████▌   | 65/100 [00:06<00:03,  9.61it/s]650000/1000000:  65%|██████▌   | 65/100 [00:06<00:03,  9.61it/s]650000/1000000:  66%|██████▌   | 66/100 [00:06<00:03,  9.25it/s]660000/1000000:  66%|██████▌   | 66/100 [00:06<00:03,  9.25it/s]660000/1000000:  67%|██████▋   | 67/100 [00:06<00:03,  9.36it/s]670000/1000000:  67%|██████▋   | 67/100 [00:06<00:03,  9.36it/s]670000/1000000:  68%|██████▊   | 68/100 [00:06<00:03,  9.45it/s]680000/1000000:  68%|██████▊   | 68/100 [00:06<00:03,  9.45it/s]680000/1000000:  69%|██████▉   | 69/100 [00:07<00:03,  9.54it/s]690000/1000000:  69%|██████▉   | 69/100 [00:07<00:03,  9.54it/s]690000/1000000:  70%|███████   | 70/100 [00:07<00:03,  9.54it/s]700000/1000000:  70%|███████   | 70/100 [00:07<00:03,  9.54it/s]710000/1000000:  71%|███████   | 71/100 [00:07<00:03,  9.54it/s]710000/1000000:  72%|███████▏  | 72/100 [00:07<00:02,  9.79it/s]720000/1000000:  72%|███████▏  | 72/100 [00:07<00:02,  9.79it/s]720000/1000000:  73%|███████▎  | 73/100 [00:07<00:02,  9.62it/s]730000/1000000:  73%|███████▎  | 73/100 [00:07<00:02,  9.62it/s]730000/1000000:  74%|███████▍  | 74/100 [00:07<00:02,  9.61it/s]740000/1000000:  74%|███████▍  | 74/100 [00:07<00:02,  9.61it/s]740000/1000000:  75%|███████▌  | 75/100 [00:07<00:02,  9.61it/s]750000/1000000:  75%|███████▌  | 75/100 [00:07<00:02,  9.61it/s]750000/1000000:  76%|███████▌  | 76/100 [00:07<00:02,  9.58it/s]760000/1000000:  76%|███████▌  | 76/100 [00:07<00:02,  9.58it/s]760000/1000000:  77%|███████▋  | 77/100 [00:07<00:02,  9.60it/s]770000/1000000:  77%|███████▋  | 77/100 [00:07<00:02,  9.60it/s]770000/1000000:  78%|███████▊  | 78/100 [00:08<00:02,  9.61it/s]780000/1000000:  78%|███████▊  | 78/100 [00:08<00:02,  9.61it/s]780000/1000000:  79%|███████▉  | 79/100 [00:08<00:02,  9.63it/s]790000/1000000:  79%|███████▉  | 79/100 [00:08<00:02,  9.63it/s]790000/1000000:  80%|████████  | 80/100 [00:08<00:02,  9.59it/s]800000/1000000:  80%|████████  | 80/100 [00:08<00:02,  9.59it/s]800000/1000000:  81%|████████  | 81/100 [00:08<00:01,  9.60it/s]810000/1000000:  81%|████████  | 81/100 [00:08<00:01,  9.60it/s]810000/1000000:  82%|████████▏ | 82/100 [00:08<00:01,  9.55it/s]820000/1000000:  82%|████████▏ | 82/100 [00:08<00:01,  9.55it/s]820000/1000000:  83%|████████▎ | 83/100 [00:08<00:01,  9.57it/s]830000/1000000:  83%|████████▎ | 83/100 [00:08<00:01,  9.57it/s]840000/1000000:  84%|████████▍ | 84/100 [00:08<00:01,  9.57it/s]840000/1000000:  85%|████████▌ | 85/100 [00:08<00:01,  9.82it/s]850000/1000000:  85%|████████▌ | 85/100 [00:08<00:01,  9.82it/s]860000/1000000:  86%|████████▌ | 86/100 [00:08<00:01,  9.82it/s]860000/1000000:  87%|████████▋ | 87/100 [00:08<00:01, 10.02it/s]870000/1000000:  87%|████████▋ | 87/100 [00:08<00:01, 10.02it/s]880000/1000000:  88%|████████▊ | 88/100 [00:09<00:01, 10.02it/s]880000/1000000:  89%|████████▉ | 89/100 [00:09<00:01, 10.24it/s]890000/1000000:  89%|████████▉ | 89/100 [00:09<00:01, 10.24it/s]900000/1000000:  90%|█████████ | 90/100 [00:09<00:00, 10.24it/s]900000/1000000:  91%|█████████ | 91/100 [00:09<00:00, 10.17it/s]910000/1000000:  91%|█████████ | 91/100 [00:09<00:00, 10.17it/s]920000/1000000:  92%|█████████▏| 92/100 [00:09<00:00, 10.17it/s]920000/1000000:  93%|█████████▎| 93/100 [00:09<00:00, 10.20it/s]930000/1000000:  93%|█████████▎| 93/100 [00:09<00:00, 10.20it/s]940000/1000000:  94%|█████████▍| 94/100 [00:09<00:00, 10.20it/s]940000/1000000:  95%|█████████▌| 95/100 [00:09<00:00, 10.32it/s]950000/1000000:  95%|█████████▌| 95/100 [00:09<00:00, 10.32it/s]960000/1000000:  96%|█████████▌| 96/100 [00:09<00:00, 10.32it/s]960000/1000000:  97%|█████████▋| 97/100 [00:09<00:00, 10.20it/s]970000/1000000:  97%|█████████▋| 97/100 [00:09<00:00, 10.20it/s]980000/1000000:  98%|█████████▊| 98/100 [00:10<00:00, 10.20it/s]980000/1000000:  99%|█████████▉| 99/100 [00:10<00:00,  9.90it/s]990000/1000000:  99%|█████████▉| 99/100 [00:10<00:00,  9.90it/s]990000/1000000: 100%|██████████| 100/100 [00:10<00:00,  9.81it/s]1000000/1000000: 100%|██████████| 100/100 [00:10<00:00,  9.81it/s]1000000/1000000: 100%|██████████| 100/100 [00:10<00:00,  9.78it/s]\n"
     ]
    },
    {
     "name": "stdout",
     "output_type": "stream",
     "text": [
      "Simulation is finished\n",
      "\n"
     ]
    }
   ],
   "source": [
    "sim_start = time.process_time()\n",
    "\n",
    "qs = QueueingSystemSimulator(n)  # queueing system simulator object\n",
    "qs.set_sources(l, 'M')  # set sources with exponential distribution\n",
    "\n",
    "gamma_params = Gamma.get_mu_alpha(b)\n",
    "qs.set_servers(gamma_params, 'Gamma')  # set servers with Gamma distribution\n",
    "\n",
    "gamma_params_warm = Gamma.get_mu_alpha(b_w)\n",
    "qs.set_warm(gamma_params_warm, 'Gamma')  # set warm-up servers with Gamma distribution\n",
    "\n",
    "qs.run(num_of_jobs)  # run simulation\n",
    "\n",
    "# After simulation is complete, save the probabilities of states and start times of service.\n",
    "p = qs.get_p()\n",
    "v_sim = qs.v\n",
    "\n",
    "sim_time = time.process_time() - sim_start"
   ]
  },
  {
   "cell_type": "markdown",
   "metadata": {
    "pycharm": {
     "name": "#%% md\n"
    }
   },
   "source": [
    "### Run numerical method"
   ]
  },
  {
   "cell_type": "code",
   "execution_count": 5,
   "metadata": {
    "pycharm": {
     "name": "#%%\n"
    }
   },
   "outputs": [
    {
     "name": "stdout",
     "output_type": "stream",
     "text": [
      "[np.complex128(0.8153347148829305+0j), np.complex128(0.18466528511706948+0j)]\n",
      "[np.complex128(0.6647706972932296+0j), np.complex128(0.30112803517940184+0j), np.complex128(0.03410126752736856+0j)]\n",
      "[np.complex128(0.5420106269401023+0j), np.complex128(0.36828021105938197+0j), np.complex128(0.08341184170972075+0j), np.complex128(0.006297320290794979+0j)]\n",
      "[np.complex128(0.44192007997972665+0j), np.complex128(0.40036218784150224+0j), np.complex128(0.13601714035651058+0j), np.complex128(0.020537695375287268+0j), np.complex128(0.0011628964469731617+0j)]\n",
      "[np.complex128(0.36031278241131226+0j), np.complex128(0.40803648784207186+0j), np.complex128(0.18483249391961187+0j), np.complex128(0.04186274000790581+0j), np.complex128(0.004740749215156178+0j), np.complex128(0.00021474660394192596+0j)]\n"
     ]
    },
    {
     "name": "stderr",
     "output_type": "stream",
     "text": [
      "/home/roman/py_proj/most_queue_git/most-queue/most_queue/theory/m_h2_h2warm.py:313: ComplexWarning: Casting complex values to real discards the imaginary part\n",
      "  while math.fabs(1.0 - p_sum) > 1e-6:\n"
     ]
    }
   ],
   "source": [
    "tt_start = time.process_time()\n",
    "tt = Mh2h2Warm(l, b, b_w, n, verbose=verbose)  # create object of the numerical method\n",
    "\n",
    "tt.run()  # run numerical method\n",
    "\n",
    "# After the calculation is complete, save the probabilities of states and start times of service.\n",
    "p_tt = tt.get_p()\n",
    "v_tt = tt.get_v()\n",
    "\n",
    "tt_time = time.process_time() - tt_start\n",
    "\n",
    "num_of_iter = tt.num_of_iter_  # number of iterations"
   ]
  },
  {
   "cell_type": "markdown",
   "metadata": {
    "pycharm": {
     "name": "#%% md\n"
    }
   },
   "source": [
    "### Print results"
   ]
  },
  {
   "cell_type": "code",
   "execution_count": 6,
   "metadata": {
    "pycharm": {
     "name": "#%%\n"
    }
   },
   "outputs": [
    {
     "name": "stdout",
     "output_type": "stream",
     "text": [
      "\n",
      "Comparison of results calculated by the Takacs-Takaichi method and simulation.\n",
      "Sim - M/Gamma/5  with Gamma warming\n",
      "Takacs-Takaichi - M/H2/5  with H2 warmingLoad coefficient: 0.70\n",
      "Variation coefficient of service time 1.100\n",
      "Variation coefficient of warming time 1.300\n",
      "Number of iterations of the Takacs-Takaichi algorithm:  26 \n",
      "Takacs-Takaichi algorithm runtime: 0.417 s\n",
      "Sim runtime: 10.684 s\n",
      "------------------------------------\n",
      "      Probabilities of states       \n",
      "------------------------------------\n",
      " #  |      Num      |      Sim      \n",
      "------------------------------------\n",
      " 0  |   0.021523    |   0.021192    \n",
      " 1  |   0.086511    |   0.086713    \n",
      " 2  |    0.15644    |    0.1564     \n",
      " 3  |    0.18445    |    0.18456    \n",
      " 4  |    0.16128    |    0.16159    \n",
      " 5  |    0.11115    |    0.11026    \n",
      " 6  |   0.078321    |   0.078591    \n",
      " 7  |   0.055874    |   0.056092    \n",
      " 8  |   0.040129    |   0.040222    \n",
      " 9  |   0.028924    |   0.029163    \n",
      "------------------------------------\n",
      "\n",
      "Initial moments of soujorn time in the system\n",
      "       #       |      Num      |      Sim      \n",
      "---------------------------------------------\n",
      "       1       |    4.5197     |    4.5466     \n",
      "       2       |    39.436     |    39.722     \n",
      "       3       |    502.28     |     506.7     \n",
      "\n"
     ]
    }
   ],
   "source": [
    "print(\"\\nComparison of results calculated by the Takacs-Takaichi method and simulation.\\n\"\n",
    "      f\"Sim - M/Gamma/{n:^2d} with Gamma warming\\n\"\n",
    "      f\"Takacs-Takaichi - M/H2/{n:^2d} with H2 warming\"\n",
    "      f\"Load coefficient: {ro:^1.2f}\")\n",
    "print(f'Variation coefficient of service time {b_coev:0.3f}')\n",
    "print(f'Variation coefficient of warming time {b_coev_warm:0.3f}')\n",
    "print(f\"Number of iterations of the Takacs-Takaichi algorithm: {num_of_iter:^4d}\")\n",
    "print(f\"Takacs-Takaichi algorithm runtime: {tt_time:^5.3f} s\")\n",
    "print(f\"Sim runtime: {sim_time:^5.3f} s\")\n",
    "\n",
    "probs_print(p, p_tt, 10)\n",
    "\n",
    "times_print(v_sim, v_tt, is_w=False)"
   ]
  }
 ],
 "metadata": {
  "kernelspec": {
   "display_name": "venv",
   "language": "python",
   "name": "python3"
  },
  "language_info": {
   "codemirror_mode": {
    "name": "ipython",
    "version": 3
   },
   "file_extension": ".py",
   "mimetype": "text/x-python",
   "name": "python",
   "nbconvert_exporter": "python",
   "pygments_lexer": "ipython3",
   "version": "3.12.3"
  }
 },
 "nbformat": 4,
 "nbformat_minor": 1
}
