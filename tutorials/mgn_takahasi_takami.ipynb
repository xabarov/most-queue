{
 "cells": [
  {
   "cell_type": "markdown",
   "metadata": {
    "collapsed": false,
    "pycharm": {
     "name": "#%% md\n"
    }
   },
   "source": []
  },
  {
   "cell_type": "markdown",
   "metadata": {
    "collapsed": false,
    "pycharm": {
     "name": "#%% md\n"
    }
   },
   "source": [
    "# Test the Takahasi-Takami method for calculating the M/H2/n system\n",
    "\n",
    "Idea of this algorithm was first proposed by Takahashi and Takami\n",
    "\n",
    ">Takahashi Y., Takami Y. A Numerical Method for the Steady-State\n",
    "Probabilities of a GI/G/c Queuing System in a General Class // J. of the\n",
    "Operat. Res. Soc. of Japan. 1976. — v. 19, no. 2. — P. 147–157.\n",
    "\n",
    "This method allows to calculate the system for an arbitrary coefficient of variation of service time. When the coefficient of variation of service time < 1, parameters of the approximating H2-distribution are complex, which does not prevent obtaining meaningful results.\n",
    "For verification we use simulation.\n"
   ]
  },
  {
   "cell_type": "markdown",
   "metadata": {
    "collapsed": false,
    "pycharm": {
     "name": "#%% md\n"
    }
   },
   "source": [
    "#### Import necessary modules"
   ]
  },
  {
   "cell_type": "code",
   "execution_count": null,
   "metadata": {
    "collapsed": false,
    "pycharm": {
     "name": "#%%\n"
    }
   },
   "outputs": [],
   "source": [
    "import most_queue.random.distributions as rd\n",
    "from most_queue.io.tables import probs_print, print_waiting_moments\n",
    "from most_queue.sim.base import QsSim\n",
    "from most_queue.theory.fifo.mgn_takahasi import MGnCalc"
   ]
  },
  {
   "cell_type": "markdown",
   "metadata": {
    "collapsed": false,
    "pycharm": {
     "name": "#%% md\n"
    }
   },
   "source": [
    "#### Set paramrameters for the simulation and calculation "
   ]
  },
  {
   "cell_type": "code",
   "execution_count": 5,
   "metadata": {
    "collapsed": false,
    "pycharm": {
     "name": "#%%\n"
    }
   },
   "outputs": [],
   "source": [
    "NUM_OF_CHANNELS = 3  # number of channels\n",
    "ARRIVAL_RATE = 1.0  # arrival rate\n",
    "b = [2.4, 14.0, 130.0]  # service time moments, where b[0] is mean, b[1] is second raw moment, b[2] is third raw moment\n",
    "NUM_OF_JOBS = 100000  # number of jobs required for the simulation"
   ]
  },
  {
   "cell_type": "markdown",
   "metadata": {},
   "source": [
    "### Run calcalculation by Takahasi-Takami method"
   ]
  },
  {
   "cell_type": "code",
   "execution_count": 6,
   "metadata": {},
   "outputs": [],
   "source": [
    "#  Set parameters for the simulation and calculation\n",
    "tt = MGnCalc(n=NUM_OF_CHANNELS)\n",
    "tt.set_sources(l=ARRIVAL_RATE)\n",
    "tt.set_servers(b)\n",
    "calc_results = tt.run()\n",
    "\n",
    "num_of_iter = tt.num_of_iter_"
   ]
  },
  {
   "cell_type": "markdown",
   "metadata": {
    "collapsed": false,
    "pycharm": {
     "name": "#%% md\n"
    }
   },
   "source": [
    "### Running the simulation "
   ]
  },
  {
   "cell_type": "code",
   "execution_count": 7,
   "metadata": {
    "collapsed": false,
    "pycharm": {
     "name": "#%%\n"
    }
   },
   "outputs": [
    {
     "name": "stdout",
     "output_type": "stream",
     "text": [
      "Start simulation\n"
     ]
    },
    {
     "name": "stderr",
     "output_type": "stream",
     "text": [
      "Job served:    | 0/100 [00:00<?, ?it/s]1000/100000:   1%|          | 1/100 [00:00<00:00, 101.46it/s]2000/100000:   2%|▏         | 2/100 [00:00<00:01, 97.28it/s] 3000/100000:   3%|▎         | 3/100 [00:00<00:01, 88.47it/s]4000/100000:   4%|▍         | 4/100 [00:00<00:01, 90.49it/s]5000/100000:   5%|▌         | 5/100 [00:00<00:01, 91.49it/s]6000/100000:   6%|▌         | 6/100 [00:00<00:01, 82.85it/s]7000/100000:   7%|▋         | 7/100 [00:00<00:01, 84.70it/s]8000/100000:   8%|▊         | 8/100 [00:00<00:01, 86.08it/s]8000/100000:   9%|▉         | 9/100 [00:00<00:01, 86.40it/s]9000/100000:   9%|▉         | 9/100 [00:00<00:01, 86.40it/s]10000/100000:  10%|█         | 10/100 [00:00<00:01, 86.40it/s]11000/100000:  11%|█         | 11/100 [00:00<00:01, 86.40it/s]12000/100000:  12%|█▏        | 12/100 [00:00<00:01, 86.40it/s]13000/100000:  13%|█▎        | 13/100 [00:00<00:01, 86.40it/s]14000/100000:  14%|█▍        | 14/100 [00:00<00:00, 86.40it/s]15000/100000:  15%|█▌        | 15/100 [00:00<00:00, 86.40it/s]16000/100000:  16%|█▌        | 16/100 [00:00<00:00, 86.40it/s]17000/100000:  17%|█▋        | 17/100 [00:00<00:00, 86.40it/s]17000/100000:  18%|█▊        | 18/100 [00:00<00:00, 87.64it/s]18000/100000:  18%|█▊        | 18/100 [00:00<00:00, 87.64it/s]19000/100000:  19%|█▉        | 19/100 [00:00<00:00, 87.64it/s]20000/100000:  20%|██        | 20/100 [00:00<00:00, 87.64it/s]21000/100000:  21%|██        | 21/100 [00:00<00:00, 87.64it/s]22000/100000:  22%|██▏       | 22/100 [00:00<00:00, 87.64it/s]23000/100000:  23%|██▎       | 23/100 [00:00<00:00, 87.64it/s]24000/100000:  24%|██▍       | 24/100 [00:00<00:00, 87.64it/s]25000/100000:  25%|██▌       | 25/100 [00:00<00:00, 87.64it/s]26000/100000:  26%|██▌       | 26/100 [00:00<00:00, 87.64it/s]26000/100000:  27%|██▋       | 27/100 [00:00<00:01, 68.54it/s]27000/100000:  27%|██▋       | 27/100 [00:00<00:01, 68.54it/s]28000/100000:  28%|██▊       | 28/100 [00:00<00:01, 68.54it/s]29001/100000:  29%|██▉       | 29/100 [00:00<00:01, 68.54it/s]30000/100000:  30%|███       | 30/100 [00:00<00:01, 68.54it/s]31000/100000:  31%|███       | 31/100 [00:00<00:01, 68.54it/s]32000/100000:  32%|███▏      | 32/100 [00:00<00:00, 68.54it/s]33000/100000:  33%|███▎      | 33/100 [00:00<00:00, 68.54it/s]34000/100000:  34%|███▍      | 34/100 [00:00<00:00, 68.54it/s]34000/100000:  35%|███▌      | 35/100 [00:00<00:00, 72.26it/s]35000/100000:  35%|███▌      | 35/100 [00:00<00:00, 72.26it/s]36000/100000:  36%|███▌      | 36/100 [00:00<00:00, 72.26it/s]37000/100000:  37%|███▋      | 37/100 [00:00<00:00, 72.26it/s]38000/100000:  38%|███▊      | 38/100 [00:00<00:00, 72.26it/s]39000/100000:  39%|███▉      | 39/100 [00:00<00:00, 72.26it/s]40000/100000:  40%|████      | 40/100 [00:00<00:00, 72.26it/s]41000/100000:  41%|████      | 41/100 [00:00<00:00, 72.26it/s]42000/100000:  42%|████▏     | 42/100 [00:00<00:00, 72.26it/s]42000/100000:  43%|████▎     | 43/100 [00:00<00:00, 72.36it/s]43000/100000:  43%|████▎     | 43/100 [00:00<00:00, 72.36it/s]44000/100000:  44%|████▍     | 44/100 [00:00<00:00, 72.36it/s]45000/100000:  45%|████▌     | 45/100 [00:00<00:00, 72.36it/s]46000/100000:  46%|████▌     | 46/100 [00:00<00:00, 72.36it/s]47000/100000:  47%|████▋     | 47/100 [00:00<00:00, 72.36it/s]48000/100000:  48%|████▊     | 48/100 [00:00<00:00, 72.36it/s]49000/100000:  49%|████▉     | 49/100 [00:00<00:00, 72.36it/s]50000/100000:  50%|█████     | 50/100 [00:00<00:00, 72.36it/s]50000/100000:  51%|█████     | 51/100 [00:00<00:00, 74.22it/s]51000/100000:  51%|█████     | 51/100 [00:00<00:00, 74.22it/s]52000/100000:  52%|█████▏    | 52/100 [00:00<00:00, 74.22it/s]53000/100000:  53%|█████▎    | 53/100 [00:00<00:00, 74.22it/s]54000/100000:  54%|█████▍    | 54/100 [00:00<00:00, 74.22it/s]55000/100000:  55%|█████▌    | 55/100 [00:00<00:00, 74.22it/s]56000/100000:  56%|█████▌    | 56/100 [00:00<00:00, 74.22it/s]57001/100000:  57%|█████▋    | 57/100 [00:00<00:00, 74.22it/s]58001/100000:  58%|█████▊    | 58/100 [00:00<00:00, 74.22it/s]58001/100000:  59%|█████▉    | 59/100 [00:00<00:00, 74.10it/s]59000/100000:  59%|█████▉    | 59/100 [00:00<00:00, 74.10it/s]60000/100000:  60%|██████    | 60/100 [00:00<00:00, 74.10it/s]61000/100000:  61%|██████    | 61/100 [00:00<00:00, 74.10it/s]62000/100000:  62%|██████▏   | 62/100 [00:00<00:00, 74.10it/s]63000/100000:  63%|██████▎   | 63/100 [00:00<00:00, 74.10it/s]64000/100000:  64%|██████▍   | 64/100 [00:00<00:00, 74.10it/s]65000/100000:  65%|██████▌   | 65/100 [00:00<00:00, 74.10it/s]66000/100000:  66%|██████▌   | 66/100 [00:00<00:00, 74.10it/s]66000/100000:  67%|██████▋   | 67/100 [00:00<00:00, 74.90it/s]67000/100000:  67%|██████▋   | 67/100 [00:00<00:00, 74.90it/s]68000/100000:  68%|██████▊   | 68/100 [00:00<00:00, 74.90it/s]69000/100000:  69%|██████▉   | 69/100 [00:00<00:00, 74.90it/s]70000/100000:  70%|███████   | 70/100 [00:00<00:00, 74.90it/s]71000/100000:  71%|███████   | 71/100 [00:00<00:00, 74.90it/s]72000/100000:  72%|███████▏  | 72/100 [00:00<00:00, 74.90it/s]73000/100000:  73%|███████▎  | 73/100 [00:00<00:00, 74.90it/s]74000/100000:  74%|███████▍  | 74/100 [00:00<00:00, 74.90it/s]75000/100000:  75%|███████▌  | 75/100 [00:00<00:00, 74.90it/s]75000/100000:  76%|███████▌  | 76/100 [00:01<00:00, 77.54it/s]76000/100000:  76%|███████▌  | 76/100 [00:01<00:00, 77.54it/s]77000/100000:  77%|███████▋  | 77/100 [00:01<00:00, 77.54it/s]78000/100000:  78%|███████▊  | 78/100 [00:01<00:00, 77.54it/s]79000/100000:  79%|███████▉  | 79/100 [00:01<00:00, 77.54it/s]80000/100000:  80%|████████  | 80/100 [00:01<00:00, 77.54it/s]81000/100000:  81%|████████  | 81/100 [00:01<00:00, 77.54it/s]82000/100000:  82%|████████▏ | 82/100 [00:01<00:00, 77.54it/s]83000/100000:  83%|████████▎ | 83/100 [00:01<00:00, 77.54it/s]83000/100000:  84%|████████▍ | 84/100 [00:01<00:00, 77.97it/s]84000/100000:  84%|████████▍ | 84/100 [00:01<00:00, 77.97it/s]85000/100000:  85%|████████▌ | 85/100 [00:01<00:00, 77.97it/s]86000/100000:  86%|████████▌ | 86/100 [00:01<00:00, 77.97it/s]87000/100000:  87%|████████▋ | 87/100 [00:01<00:00, 77.97it/s]88000/100000:  88%|████████▊ | 88/100 [00:01<00:00, 77.97it/s]89000/100000:  89%|████████▉ | 89/100 [00:01<00:00, 77.97it/s]90000/100000:  90%|█████████ | 90/100 [00:01<00:00, 77.97it/s]91000/100000:  91%|█████████ | 91/100 [00:01<00:00, 77.97it/s]91000/100000:  92%|█████████▏| 92/100 [00:01<00:00, 75.84it/s]92000/100000:  92%|█████████▏| 92/100 [00:01<00:00, 75.84it/s]93000/100000:  93%|█████████▎| 93/100 [00:01<00:00, 75.84it/s]94000/100000:  94%|█████████▍| 94/100 [00:01<00:00, 75.84it/s]95000/100000:  95%|█████████▌| 95/100 [00:01<00:00, 75.84it/s]96000/100000:  96%|█████████▌| 96/100 [00:01<00:00, 75.84it/s]97000/100000:  97%|█████████▋| 97/100 [00:01<00:00, 75.84it/s]98000/100000:  98%|█████████▊| 98/100 [00:01<00:00, 75.84it/s]99000/100000:  99%|█████████▉| 99/100 [00:01<00:00, 75.84it/s]99000/100000: 100%|██████████| 100/100 [00:01<00:00, 76.91it/s]100000/100000: 100%|██████████| 100/100 [00:01<00:00, 76.91it/s]100000/100000: 100%|██████████| 100/100 [00:01<00:00, 75.59it/s]\n"
     ]
    },
    {
     "name": "stdout",
     "output_type": "stream",
     "text": [
      "Simulation is finished\n",
      "\n"
     ]
    }
   ],
   "source": [
    "qs = QsSim(NUM_OF_CHANNELS)\n",
    "\n",
    "# Set the arrival process. M - exponential with intensity ARRIVAL_RATE\n",
    "qs.set_sources(ARRIVAL_RATE, 'M')\n",
    "# Set servers with Gamma distribution\n",
    "gamma_params = rd.GammaDistribution.get_params([b[0], b[1]])\n",
    "qs.set_servers(gamma_params, 'Gamma')\n",
    "\n",
    "# Run the simulation\n",
    "sim_results = qs.run(NUM_OF_JOBS)"
   ]
  },
  {
   "cell_type": "markdown",
   "metadata": {},
   "source": [
    "## Print the results"
   ]
  },
  {
   "cell_type": "code",
   "execution_count": null,
   "metadata": {},
   "outputs": [
    {
     "name": "stdout",
     "output_type": "stream",
     "text": [
      "Number of iterations of the Takahasi-Takami algorithm:  32 \n",
      "Simulation duration: 1.49344 sec\n",
      "Calculation duration: 0.07320 sec\n",
      "------------------------------------\n",
      "      Probabilities of states       \n",
      "------------------------------------\n",
      " #  |      Num      |      Sim      \n",
      "------------------------------------\n",
      " 0  |    0.05713    |   0.055633    \n",
      " 1  |    0.13539    |    0.13352    \n",
      " 2  |    0.15782    |    0.1531     \n",
      " 3  |    0.11763    |    0.11369    \n",
      " 4  |   0.092789    |   0.092445    \n",
      " 5  |   0.075268    |   0.074337    \n",
      " 6  |   0.061864    |   0.061902    \n",
      " 7  |   0.051157    |   0.051885    \n",
      " 8  |   0.042421    |   0.042777    \n",
      " 9  |   0.035222    |   0.036124    \n",
      "------------------------------------\n",
      "\n",
      "\n",
      "raw moments of waiting time in the system\n",
      "---------------------------------------------\n",
      "       #       |      Num      |      Sim      \n",
      "---------------------------------------------\n",
      "       1       |    3.1233     |    3.2746     \n",
      "       2       |    30.668     |    32.616     \n",
      "       3       |    452.88     |    479.24     \n",
      "\n"
     ]
    }
   ],
   "source": [
    "print(f\"Number of iterations of the Takahasi-Takami algorithm: {num_of_iter:^4d}\")\n",
    "\n",
    "print(f\"Simulation duration: {sim_results.duration:.5f} sec\")\n",
    "print(f\"Calculation duration: {calc_results.duration:.5f} sec\")\n",
    "\n",
    "probs_print(sim_results.p, calc_results.p, 10)\n",
    "print_waiting_moments(sim_results.w, calc_results.w)"
   ]
  }
 ],
 "metadata": {
  "kernelspec": {
   "display_name": ".venv",
   "language": "python",
   "name": "python3"
  },
  "language_info": {
   "codemirror_mode": {
    "name": "ipython",
    "version": 3
   },
   "file_extension": ".py",
   "mimetype": "text/x-python",
   "name": "python",
   "nbconvert_exporter": "python",
   "pygments_lexer": "ipython3",
   "version": "3.12.3"
  }
 },
 "nbformat": 4,
 "nbformat_minor": 0
}
