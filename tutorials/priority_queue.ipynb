{
 "cells": [
  {
   "cell_type": "markdown",
   "metadata": {
    "collapsed": false,
    "pycharm": {
     "name": "#%% md\n"
    }
   },
   "source": [
    "# Launching an simulation of a multi-server queue with priorities\n",
    "\n",
    "The simulation of an M/M/n system supports various types of input and service distributions, any number of channels. It is possible to specify the maximum length of the queue. By default, it is an infinite queue. In Kendall notation: GI/G/n/r and GI/G/n.\n",
    "\n",
    "To assign priorities, you need to pass the priority type *prty_type* to the IM\n",
    "\n",
    "| prty_type |                                     Priority Type                                     |\n",
    "|:---------:|:----------------------------------------------------------------------:|\n",
    "|    No     |                                 Without priorities, FIFO                                  |\n",
    "|    PR     |                 Preemptive resume, with resumption of interrupted request                 |\n",
    "|    RS     | Preemptive repeat with resampling, service again with a new random duration |\n",
    "|    RW     |   Preemptive repeat without resampling, service again with the same previous duration    |\n",
    "|    NP     |                        Non-preemptive, relative priority                         |\n",
    "\n",
    "To launch the IM requires 4 steps:\n",
    "- creating an instance of the simulation model\n",
    "- specifying the input stream\n",
    "- specifying the service distribution\n",
    "- running the model"
   ]
  },
  {
   "cell_type": "markdown",
   "metadata": {
    "collapsed": false,
    "pycharm": {
     "name": "#%% md\n"
    }
   },
   "source": [
    "#### Define the number of channels, number of classes, and arrival intensities for each class"
   ]
  },
  {
   "cell_type": "code",
   "execution_count": null,
   "metadata": {
    "collapsed": false,
    "pycharm": {
     "name": "#%%\n"
    }
   },
   "outputs": [],
   "source": [
    "from most_queue.rand_distribution import GammaDistribution\n",
    "\n",
    "n = 5  # number of channels\n",
    "k = 3  # number of classes\n",
    "num_of_jobs = 100000 # number of jobs to simulate\n",
    "l = [0.2, 0.3, 0.4]\n",
    "lsum = sum(l)"
   ]
  },
  {
   "cell_type": "markdown",
   "metadata": {
    "collapsed": false,
    "pycharm": {
     "name": "#%% md\n"
    }
   },
   "source": [
    "#### Setting up the initial moments of service distribution.\n",
    "\n",
    "To verify with numerical methods, it is necessary to specify one more initial moment than the required number of initial moments for the distribution of the time spent by requests in the system. That is, to obtain v1, v2, v3, we need to specify 4 moments for each class of requests.\n",
    "By using the given moments, we can obtain the parameters of the approximating distribution for setting up the IM. In this case, the service time distribution is specified as a Gamma distribution. To find its two parameters, we require two initial moments."
   ]
  },
  {
   "cell_type": "code",
   "execution_count": null,
   "metadata": {
    "collapsed": false,
    "pycharm": {
     "name": "#%%\n"
    }
   },
   "outputs": [
    {
     "name": "stdout",
     "output_type": "stream",
     "text": [
      "ro = 0.810\n",
      "\n",
      "Gamma distribution parameters:\n",
      " [(1.3349526308745838, 3.0036434194678137), (0.6674763154372919, 3.0036434194678137), (0.44498421029152807, 3.0036434194678145)]\n",
      "\n",
      "Initial moments of service time:\n",
      " [[2.25, 6.747953062500001, 25.292546083777786, 113.7474276956009], [4.5, 26.991812250000002, 202.3403686702223, 1819.9588431296145], [6.75, 60.73157756250001, 682.8987442620003, 9213.541643343671]]\n"
     ]
    }
   ],
   "source": [
    "# First and second initial moments of service time for each of the 3 classes\n",
    "b1 = [0.45 * n, 0.9 * n, 1.35 * n]\n",
    "b2 = [0] * k\n",
    "coev = 0.577\n",
    "\n",
    "for i in range(k):\n",
    "    b2[i] = (b1[i] ** 2) * (1 + coev ** 2)\n",
    "\n",
    "# Average service time and coefficient of utilization\n",
    "b_sr = sum(b1) / k\n",
    "ro = lsum * b_sr / n\n",
    "\n",
    "print(f'ro = {ro:0.3f}')\n",
    "\n",
    "# Gamma distribution parameters\n",
    "params = []\n",
    "for i in range(k):\n",
    "    params.append(GammaDistribution.get_params([b1[i], b2[i]]))\n",
    "\n",
    "print('\\nGamma distribution parameters:\\n', params)\n",
    "\n",
    "# Calc 4 moments by the obtained parameters\n",
    "b = []\n",
    "for j in range(k):\n",
    "    b.append(GammaDistribution.calc_theory_moments(params[j], 4))\n",
    "\n",
    "print('\\nInitial moments of service time:\\n', b)"
   ]
  },
  {
   "cell_type": "markdown",
   "metadata": {
    "collapsed": false,
    "pycharm": {
     "name": "#%% md\n"
    }
   },
   "source": [
    "#### Import the PriorityQueueSimulator class and create an instance of it.\n",
    "When creating, specify the number of channels *n* and the number of classes *k*. Also specify the type of priority - *PR* (absolute priority)."
   ]
  },
  {
   "cell_type": "code",
   "execution_count": 10,
   "metadata": {
    "collapsed": false,
    "pycharm": {
     "name": "#%%\n"
    }
   },
   "outputs": [],
   "source": [
    "from most_queue.sim.priority_queue_sim import PriorityQueueSimulator\n",
    "\n",
    "qs = PriorityQueueSimulator(n, k, \"PR\")"
   ]
  },
  {
   "cell_type": "markdown",
   "metadata": {
    "collapsed": false,
    "pycharm": {
     "name": "#%% md\n"
    }
   },
   "source": [
    "#### Set sources and servers parameters."
   ]
  },
  {
   "cell_type": "code",
   "execution_count": 11,
   "metadata": {
    "collapsed": false,
    "pycharm": {
     "name": "#%%\n"
    }
   },
   "outputs": [],
   "source": [
    "sources = []\n",
    "servers_params = []\n",
    "for j in range(k):\n",
    "    sources.append({'type': 'M', 'params': l[j]})\n",
    "    servers_params.append({'type': 'Gamma', 'params': params[j]})\n",
    "\n",
    "qs.set_sources(sources)\n",
    "qs.set_servers(servers_params)"
   ]
  },
  {
   "cell_type": "markdown",
   "metadata": {
    "collapsed": false,
    "pycharm": {
     "name": "#%% md\n"
    }
   },
   "source": [
    "#### For or running the IM, we need to call the *run* method and pass the number of jobs"
   ]
  },
  {
   "cell_type": "code",
   "execution_count": 12,
   "metadata": {
    "collapsed": false,
    "pycharm": {
     "name": "#%%\n"
    }
   },
   "outputs": [
    {
     "name": "stdout",
     "output_type": "stream",
     "text": [
      "Start simulation\n"
     ]
    },
    {
     "name": "stderr",
     "output_type": "stream",
     "text": [
      "Job served:    | 0/100 [00:00<?, ?it/s]3000/300000:   1%|          | 1/100 [00:00<00:01, 51.09it/s]6000/300000:   2%|▏         | 2/100 [00:00<00:01, 50.43it/s]9000/300000:   3%|▎         | 3/100 [00:00<00:01, 50.55it/s]12000/300000:   4%|▍         | 4/100 [00:00<00:01, 50.42it/s]15000/300000:   5%|▌         | 5/100 [00:00<00:01, 50.31it/s]15000/300000:   6%|▌         | 6/100 [00:00<00:01, 49.96it/s]18000/300000:   6%|▌         | 6/100 [00:00<00:01, 49.96it/s]21000/300000:   7%|▋         | 7/100 [00:00<00:01, 49.96it/s]24000/300000:   8%|▊         | 8/100 [00:00<00:01, 49.96it/s]27000/300000:   9%|▉         | 9/100 [00:00<00:01, 49.96it/s]30000/300000:  10%|█         | 10/100 [00:00<00:01, 49.96it/s]33000/300000:  11%|█         | 11/100 [00:00<00:01, 49.96it/s]33000/300000:  12%|█▏        | 12/100 [00:00<00:01, 50.57it/s]36000/300000:  12%|█▏        | 12/100 [00:00<00:01, 50.57it/s]39000/300000:  13%|█▎        | 13/100 [00:00<00:01, 50.57it/s]42000/300000:  14%|█▍        | 14/100 [00:00<00:01, 50.57it/s]45000/300000:  15%|█▌        | 15/100 [00:00<00:01, 50.57it/s]48000/300000:  16%|█▌        | 16/100 [00:00<00:01, 50.57it/s]51000/300000:  17%|█▋        | 17/100 [00:00<00:01, 50.57it/s]51000/300000:  18%|█▊        | 18/100 [00:00<00:01, 45.74it/s]54000/300000:  18%|█▊        | 18/100 [00:00<00:01, 45.74it/s]57000/300000:  19%|█▉        | 19/100 [00:00<00:01, 45.74it/s]60000/300000:  20%|██        | 20/100 [00:00<00:01, 45.74it/s]63000/300000:  21%|██        | 21/100 [00:00<00:01, 45.74it/s]66000/300000:  22%|██▏       | 22/100 [00:00<00:01, 45.74it/s]66000/300000:  23%|██▎       | 23/100 [00:00<00:01, 45.68it/s]69000/300000:  23%|██▎       | 23/100 [00:00<00:01, 45.68it/s]72000/300000:  24%|██▍       | 24/100 [00:00<00:01, 45.68it/s]75000/300000:  25%|██▌       | 25/100 [00:00<00:01, 45.68it/s]78000/300000:  26%|██▌       | 26/100 [00:00<00:01, 45.68it/s]81000/300000:  27%|██▋       | 27/100 [00:00<00:01, 45.68it/s]84000/300000:  28%|██▊       | 28/100 [00:00<00:01, 45.68it/s]84000/300000:  29%|██▉       | 29/100 [00:00<00:01, 47.40it/s]87001/300000:  29%|██▉       | 29/100 [00:00<00:01, 47.40it/s]90000/300000:  30%|███       | 30/100 [00:00<00:01, 47.40it/s]93000/300000:  31%|███       | 31/100 [00:00<00:01, 47.40it/s]96000/300000:  32%|███▏      | 32/100 [00:00<00:01, 47.40it/s]99000/300000:  33%|███▎      | 33/100 [00:00<00:01, 47.40it/s]102000/300000:  34%|███▍      | 34/100 [00:00<00:01, 47.40it/s]102000/300000:  35%|███▌      | 35/100 [00:00<00:01, 48.51it/s]105000/300000:  35%|███▌      | 35/100 [00:00<00:01, 48.51it/s]108000/300000:  36%|███▌      | 36/100 [00:00<00:01, 48.51it/s]111000/300000:  37%|███▋      | 37/100 [00:00<00:01, 48.51it/s]114000/300000:  38%|███▊      | 38/100 [00:00<00:01, 48.51it/s]117000/300000:  39%|███▉      | 39/100 [00:00<00:01, 48.51it/s]117000/300000:  40%|████      | 40/100 [00:00<00:01, 45.90it/s]120000/300000:  40%|████      | 40/100 [00:00<00:01, 45.90it/s]123000/300000:  41%|████      | 41/100 [00:00<00:01, 45.90it/s]126000/300000:  42%|████▏     | 42/100 [00:00<00:01, 45.90it/s]129000/300000:  43%|████▎     | 43/100 [00:00<00:01, 45.90it/s]132000/300000:  44%|████▍     | 44/100 [00:00<00:01, 45.90it/s]135000/300000:  45%|████▌     | 45/100 [00:00<00:01, 45.90it/s]135000/300000:  46%|████▌     | 46/100 [00:00<00:01, 47.40it/s]138000/300000:  46%|████▌     | 46/100 [00:00<00:01, 47.40it/s]141000/300000:  47%|████▋     | 47/100 [00:00<00:01, 47.40it/s]144000/300000:  48%|████▊     | 48/100 [00:01<00:01, 47.40it/s]147000/300000:  49%|████▉     | 49/100 [00:01<00:01, 47.40it/s]150000/300000:  50%|█████     | 50/100 [00:01<00:01, 47.40it/s]153000/300000:  51%|█████     | 51/100 [00:01<00:01, 47.40it/s]153000/300000:  52%|█████▏    | 52/100 [00:01<00:00, 48.29it/s]156000/300000:  52%|█████▏    | 52/100 [00:01<00:00, 48.29it/s]159000/300000:  53%|█████▎    | 53/100 [00:01<00:00, 48.29it/s]162000/300000:  54%|█████▍    | 54/100 [00:01<00:00, 48.29it/s]165000/300000:  55%|█████▌    | 55/100 [00:01<00:00, 48.29it/s]168000/300000:  56%|█████▌    | 56/100 [00:01<00:00, 48.29it/s]171001/300000:  57%|█████▋    | 57/100 [00:01<00:00, 48.29it/s]171001/300000:  58%|█████▊    | 58/100 [00:01<00:00, 49.19it/s]174001/300000:  58%|█████▊    | 58/100 [00:01<00:00, 49.19it/s]177000/300000:  59%|█████▉    | 59/100 [00:01<00:00, 49.19it/s]180000/300000:  60%|██████    | 60/100 [00:01<00:00, 49.19it/s]183000/300000:  61%|██████    | 61/100 [00:01<00:00, 49.19it/s]186000/300000:  62%|██████▏   | 62/100 [00:01<00:00, 49.19it/s]186000/300000:  63%|██████▎   | 63/100 [00:01<00:00, 49.38it/s]189000/300000:  63%|██████▎   | 63/100 [00:01<00:00, 49.38it/s]192000/300000:  64%|██████▍   | 64/100 [00:01<00:00, 49.38it/s]195000/300000:  65%|██████▌   | 65/100 [00:01<00:00, 49.38it/s]198000/300000:  66%|██████▌   | 66/100 [00:01<00:00, 49.38it/s]201000/300000:  67%|██████▋   | 67/100 [00:01<00:00, 49.38it/s]204000/300000:  68%|██████▊   | 68/100 [00:01<00:00, 49.38it/s]204000/300000:  69%|██████▉   | 69/100 [00:01<00:00, 49.02it/s]207000/300000:  69%|██████▉   | 69/100 [00:01<00:00, 49.02it/s]210000/300000:  70%|███████   | 70/100 [00:01<00:00, 49.02it/s]213000/300000:  71%|███████   | 71/100 [00:01<00:00, 49.02it/s]216000/300000:  72%|███████▏  | 72/100 [00:01<00:00, 49.02it/s]219000/300000:  73%|███████▎  | 73/100 [00:01<00:00, 49.02it/s]219000/300000:  74%|███████▍  | 74/100 [00:01<00:00, 46.98it/s]222000/300000:  74%|███████▍  | 74/100 [00:01<00:00, 46.98it/s]225000/300000:  75%|███████▌  | 75/100 [00:01<00:00, 46.98it/s]228000/300000:  76%|███████▌  | 76/100 [00:01<00:00, 46.98it/s]231000/300000:  77%|███████▋  | 77/100 [00:01<00:00, 46.98it/s]234000/300000:  78%|███████▊  | 78/100 [00:01<00:00, 46.98it/s]237000/300000:  79%|███████▉  | 79/100 [00:01<00:00, 46.98it/s]237000/300000:  80%|████████  | 80/100 [00:01<00:00, 47.87it/s]240000/300000:  80%|████████  | 80/100 [00:01<00:00, 47.87it/s]243000/300000:  81%|████████  | 81/100 [00:01<00:00, 47.87it/s]246000/300000:  82%|████████▏ | 82/100 [00:01<00:00, 47.87it/s]249000/300000:  83%|████████▎ | 83/100 [00:01<00:00, 47.87it/s]252000/300000:  84%|████████▍ | 84/100 [00:01<00:00, 47.87it/s]252000/300000:  85%|████████▌ | 85/100 [00:01<00:00, 47.33it/s]255000/300000:  85%|████████▌ | 85/100 [00:01<00:00, 47.33it/s]258000/300000:  86%|████████▌ | 86/100 [00:01<00:00, 47.33it/s]261000/300000:  87%|████████▋ | 87/100 [00:01<00:00, 47.33it/s]264000/300000:  88%|████████▊ | 88/100 [00:01<00:00, 47.33it/s]267000/300000:  89%|████████▉ | 89/100 [00:01<00:00, 47.33it/s]267000/300000:  90%|█████████ | 90/100 [00:01<00:00, 47.57it/s]270000/300000:  90%|█████████ | 90/100 [00:01<00:00, 47.57it/s]273000/300000:  91%|█████████ | 91/100 [00:01<00:00, 47.57it/s]276000/300000:  92%|█████████▏| 92/100 [00:01<00:00, 47.57it/s]279000/300000:  93%|█████████▎| 93/100 [00:01<00:00, 47.57it/s]282000/300000:  94%|█████████▍| 94/100 [00:01<00:00, 47.57it/s]282000/300000:  95%|█████████▌| 95/100 [00:01<00:00, 46.46it/s]285000/300000:  95%|█████████▌| 95/100 [00:01<00:00, 46.46it/s]288000/300000:  96%|█████████▌| 96/100 [00:02<00:00, 46.46it/s]291000/300000:  97%|█████████▋| 97/100 [00:02<00:00, 46.46it/s]294000/300000:  98%|█████████▊| 98/100 [00:02<00:00, 46.46it/s]297000/300000:  99%|█████████▉| 99/100 [00:02<00:00, 46.46it/s]297000/300000: 100%|██████████| 100/100 [00:02<00:00, 46.80it/s]300000/300000: 100%|██████████| 100/100 [00:02<00:00, 46.80it/s]300000/300000: 100%|██████████| 100/100 [00:02<00:00, 47.50it/s]\n"
     ]
    },
    {
     "name": "stdout",
     "output_type": "stream",
     "text": [
      "Simulation is finished\n",
      "\n",
      "[[2.2522101694749534, 6.744308028876687, 25.209332022622043], [4.920101879864704, 33.00271718765631, 280.9927953658352], [18.020166975672666, 629.0703418814782, 38733.556903533805]]\n"
     ]
    }
   ],
   "source": [
    "num_of_jobs = 300000\n",
    "qs.run(num_of_jobs)\n",
    "v_sim = qs.v\n",
    "print(v_sim)"
   ]
  },
  {
   "cell_type": "markdown",
   "metadata": {
    "collapsed": false,
    "pycharm": {
     "name": "#%% md\n"
    }
   },
   "source": [
    "#### Numermerical calculation using the method of invariant relations"
   ]
  },
  {
   "cell_type": "code",
   "execution_count": null,
   "metadata": {
    "collapsed": false,
    "pycharm": {
     "name": "#%%\n"
    }
   },
   "outputs": [],
   "source": [
    "from most_queue.theory.queueing_systems.priority.mgn_invar_approx import MGnInvarApproximation\n",
    "mgn_invar = MGnInvarApproximation(l, b, n)\n",
    "v_teor = mgn_invar.get_v('PR')"
   ]
  },
  {
   "cell_type": "markdown",
   "metadata": {
    "collapsed": false,
    "pycharm": {
     "name": "#%% md\n"
    }
   },
   "source": [
    "#### Вывод результатов"
   ]
  },
  {
   "cell_type": "code",
   "execution_count": null,
   "metadata": {
    "collapsed": false,
    "pycharm": {
     "name": "#%%\n"
    }
   },
   "outputs": [
    {
     "name": "stdout",
     "output_type": "stream",
     "text": [
      "\n",
      "Comparison of simulation and numeric results (method by invariants of relation) \n",
      "for the time spent in a multi-channel M/M/S queue with priorities\n",
      "Number of channels: 5\n",
      "Number of classes: 3\n",
      "Load coefficient: 0.81\n",
      "\n",
      "Variation coefficient of service time 0.577\n",
      "\n",
      "PR (preemtive) priority\n",
      "       Initial moments of soujorn time in the system        \n",
      "------------------------------------------------------------\n",
      "           |                       #                       |\n",
      "    Cls    | --------------------------------------------- |\n",
      "           |       1       |       2       |       3       |\n",
      "------------------------------------------------------------\n",
      "     | Sim |     2.25      |     6.74      |     25.2      |\n",
      "  1  |------------------------------------------------------\n",
      "     | Num |     2.27      |     6.85      |     25.8      |\n",
      "------------------------------------------------------------\n",
      "     | Sim |     4.92      |      33       |      281      |\n",
      "  2  |------------------------------------------------------\n",
      "     | Num |     4.83      |     30.6      |      239      |\n",
      "------------------------------------------------------------\n",
      "     | Sim |      18       |      629      |   3.87e+04    |\n",
      "  3  |------------------------------------------------------\n",
      "     | Num |     15.1      |      377      |   1.37e+04    |\n",
      "------------------------------------------------------------\n",
      "\n",
      "\n",
      "\n"
     ]
    }
   ],
   "source": [
    "from most_queue.general.tables import times_print_with_classes\n",
    "print(\"\\nComparison of simulation and numeric results (method by invariants of relation) \\n\"\n",
    "          \"for the time spent in a multi-channel M/M/S queue with priorities\")\n",
    "print(f\"Number of channels: {n}\\nNumber of classes: {k}\\nLoad coefficient: {ro:<1.2f}\\n\")\n",
    "print(f\"Variation coefficient of service time {coev}\\n\")\n",
    "print(\"PR (preemtive) priority\")\n",
    "\n",
    "times_print_with_classes(v_sim, v_teor, is_w=False)"
   ]
  }
 ],
 "metadata": {
  "kernelspec": {
   "display_name": "venv",
   "language": "python",
   "name": "python3"
  },
  "language_info": {
   "codemirror_mode": {
    "name": "ipython",
    "version": 3
   },
   "file_extension": ".py",
   "mimetype": "text/x-python",
   "name": "python",
   "nbconvert_exporter": "python",
   "pygments_lexer": "ipython3",
   "version": "3.12.3"
  }
 },
 "nbformat": 4,
 "nbformat_minor": 0
}
