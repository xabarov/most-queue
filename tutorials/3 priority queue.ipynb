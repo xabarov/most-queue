{
 "cells": [
  {
   "cell_type": "markdown",
   "metadata": {
    "collapsed": false,
    "pycharm": {
     "name": "#%% md\n"
    }
   },
   "source": [
    "# Запуск имитационной модели системы массового обслуживания с приоритетами\n",
    "\n",
    "Имитационная модель (ИМ) СМО поддерживает различные типы распределений входного потока и обслуживания, произвольное число каналов. Возможно задание максимальной длины очереди. По умолчанию - бесконечная очередь. В нотации Кендалла: GI/G/n/r и GI/G/n.\n",
    "\n",
    "Для задания приоритета необходимо передать в ИМ тип приоритета *prty_type*\n",
    "\n",
    "| prty_type |                                     Тип приоритета                                     |\n",
    "|:---------:|:----------------------------------------------------------------------:|\n",
    "|    No     |                                 без приоритетов, FIFO                                  |\n",
    "|    PR     |                 preemptive resume, с дообслуживанием прерванной заявки                 |\n",
    "|    RS     | preemptive repeat with resampling, обслуживание заново с новой случайной длительностью |\n",
    "|    RW     |   preemptive repeat without resampling, обслуживание заново с прежней длительностью    |\n",
    "|    NP     |                        non preemptive, относительный приоритет                         |\n",
    "\n",
    "Для запуска ИМ требуется 4 шага:\n",
    "- создание экземпляра ИМ\n",
    "- задание входного потока\n",
    "- задание распределения обслуживания\n",
    "- запуск модели\n"
   ]
  },
  {
   "cell_type": "markdown",
   "metadata": {
    "collapsed": false,
    "pycharm": {
     "name": "#%% md\n"
    }
   },
   "source": [
    "#### Задаем число каналов, число классов, интенсивности вх потоков для каждого класса заявок"
   ]
  },
  {
   "cell_type": "code",
   "execution_count": 11,
   "metadata": {
    "collapsed": false,
    "pycharm": {
     "name": "#%%\n"
    }
   },
   "outputs": [],
   "source": [
    "from most_queue.rand_distribution import Gamma\n",
    "\n",
    "n = 5  # число каналов обслуживания\n",
    "k = 3  # число классов\n",
    "l = [0.2, 0.3, 0.4]\n",
    "lsum = sum(l)"
   ]
  },
  {
   "cell_type": "markdown",
   "metadata": {
    "collapsed": false,
    "pycharm": {
     "name": "#%% md\n"
    }
   },
   "source": [
    "#### Задаем начальные моменты распределений обслуживания.\n",
    "\n",
    "Для дальнейшей сверки с численными методами необходимо задать число начальных моментов на 1 больше, чем требуемое число начальных моментов распределения времени пребывания заявок в системе. Т.е. для получения v1, v2, v3 требуется задание 4-х моментов для каждого класса заявок.\n",
    "По заданным моментам можем получить параметры аппроксимирующего распределения для задания ИМ. В данном случае распределение времени обслуживания задано Гамма-распределением. Для нахождения двух его параметров требуется два начальных момента."
   ]
  },
  {
   "cell_type": "code",
   "execution_count": 12,
   "metadata": {
    "collapsed": false,
    "pycharm": {
     "name": "#%%\n"
    }
   },
   "outputs": [
    {
     "name": "stdout",
     "output_type": "stream",
     "text": [
      "ro = 0.810\n",
      "\n",
      "Параметры Гамма-распределения для каждого класса:\n",
      " [(1.3349526308745838, 3.0036434194678137), (0.6674763154372919, 3.0036434194678137), (0.44498421029152807, 3.0036434194678145)]\n",
      "\n",
      "Начальные моменты\n",
      " [[2.25, 6.747953062500001, 25.292546083777786, 113.7474276956009], [4.5, 26.991812250000002, 202.3403686702223, 1819.9588431296145], [6.75, 60.73157756250001, 682.8987442620003, 9213.541643343671]]\n"
     ]
    }
   ],
   "source": [
    "# Первый и второй начальные моменты времени обслуживания для каждого из 3-х классов\n",
    "b1 = [0.45 * n, 0.9 * n, 1.35 * n]\n",
    "b2 = [0] * k\n",
    "coev = 0.577\n",
    "\n",
    "for i in range(k):\n",
    "    b2[i] = (b1[i] ** 2) * (1 + coev ** 2)\n",
    "\n",
    "# Среднее время обслуживания и коэффициент загрузка\n",
    "b_sr = sum(b1) / k\n",
    "ro = lsum * b_sr / n\n",
    "\n",
    "print(f'ro = {ro:0.3f}')\n",
    "\n",
    "# Параметры Гамма-распределения\n",
    "params = []\n",
    "for i in range(k):\n",
    "    params.append(Gamma.get_mu_alpha([b1[i], b2[i]]))\n",
    "\n",
    "print('\\nПараметры Гамма-распределения для каждого класса:\\n', params)\n",
    "\n",
    "# По полученным параметрам можем получить 4 момента\n",
    "b = []\n",
    "for j in range(k):\n",
    "    b.append(Gamma.calc_theory_moments(params[j][0], params[j][1], 4))\n",
    "\n",
    "print('\\nНачальные моменты\\n', b)"
   ]
  },
  {
   "cell_type": "markdown",
   "metadata": {
    "collapsed": false,
    "pycharm": {
     "name": "#%% md\n"
    }
   },
   "source": [
    "#### Импорт класса PriorityQueueSimulator и создание экземпляра ИМ.\n",
    "При создании укажем число каналов *n* и число классов *k*. Также укажем тип приоритета - *PR* (абсолютный приоритет)."
   ]
  },
  {
   "cell_type": "code",
   "execution_count": 13,
   "metadata": {
    "collapsed": false,
    "pycharm": {
     "name": "#%%\n"
    }
   },
   "outputs": [],
   "source": [
    "from most_queue.sim.priority_queue_sim import PriorityQueueSimulator\n",
    "\n",
    "qs = PriorityQueueSimulator(n, k, \"PR\")"
   ]
  },
  {
   "cell_type": "markdown",
   "metadata": {
    "collapsed": false,
    "pycharm": {
     "name": "#%% md\n"
    }
   },
   "source": [
    "#### Зададим параметры вх потоков и обслуживания"
   ]
  },
  {
   "cell_type": "code",
   "execution_count": 14,
   "metadata": {
    "collapsed": false,
    "pycharm": {
     "name": "#%%\n"
    }
   },
   "outputs": [],
   "source": [
    "sources = []\n",
    "servers_params = []\n",
    "for j in range(k):\n",
    "    sources.append({'type': 'M', 'params': l[j]})\n",
    "    servers_params.append({'type': 'Gamma', 'params': params[j]})\n",
    "\n",
    "qs.set_sources(sources)\n",
    "qs.set_servers(servers_params)"
   ]
  },
  {
   "cell_type": "markdown",
   "metadata": {
    "collapsed": false,
    "pycharm": {
     "name": "#%% md\n"
    }
   },
   "source": [
    "#### Для запуска ИМ необходимо вызвать метод *run* и передать число заявок"
   ]
  },
  {
   "cell_type": "code",
   "execution_count": 15,
   "metadata": {
    "collapsed": false,
    "pycharm": {
     "name": "#%%\n"
    }
   },
   "outputs": [
    {
     "name": "stdout",
     "output_type": "stream",
     "text": [
      "Start simulation\n",
      "\n"
     ]
    },
    {
     "name": "stderr",
     "output_type": "stream",
     "text": [
      "100%|██████████| 300000/300000 [00:01<00:00, 225724.28it/s]\n"
     ]
    },
    {
     "name": "stdout",
     "output_type": "stream",
     "text": [
      "Simulation is finished\n",
      "\n",
      "[[2.2555726774927884, 6.765895932885055, 25.316381696950828], [4.89295833562666, 32.66972034395344, 277.41872504558796], [17.648183522210264, 606.2721315766971, 37662.597415239026]]\n"
     ]
    }
   ],
   "source": [
    "num_of_jobs = 300000\n",
    "qs.run(num_of_jobs)\n",
    "v_sim = qs.v\n",
    "print(v_sim)"
   ]
  },
  {
   "cell_type": "markdown",
   "metadata": {
    "collapsed": false,
    "pycharm": {
     "name": "#%% md\n"
    }
   },
   "source": [
    "#### Численный расчет методом инвариантов отношений"
   ]
  },
  {
   "cell_type": "code",
   "execution_count": 16,
   "metadata": {
    "collapsed": false,
    "pycharm": {
     "name": "#%%\n"
    }
   },
   "outputs": [],
   "source": [
    "from most_queue.theory import priority_calc\n",
    "v_teor = priority_calc.get_v_prty_invar(l, b, n, 'PR')"
   ]
  },
  {
   "cell_type": "markdown",
   "metadata": {
    "collapsed": false,
    "pycharm": {
     "name": "#%% md\n"
    }
   },
   "source": [
    "#### Вывод результатов"
   ]
  },
  {
   "cell_type": "code",
   "execution_count": 18,
   "metadata": {
    "collapsed": false,
    "pycharm": {
     "name": "#%%\n"
    }
   },
   "outputs": [
    {
     "name": "stdout",
     "output_type": "stream",
     "text": [
      "\n",
      "Сравнение данных ИМ и результатов расчета методом инвариантов отношения (Р) \n",
      "для времени пребывания в многоканальной СМО с приоритетами\n",
      "Число каналов: 5\n",
      "Число классов: 3\n",
      "Коэффициент загрузки: 0.81\n",
      "\n",
      "Коэффициент вариации времени обслуживания 0.577\n",
      "\n",
      "Абсолютный приоритет\n",
      "   Начальные моменты времени пребывания заявок в системе    \n",
      "------------------------------------------------------------\n",
      "           |           Номер начального момента            |\n",
      "   № кл    | --------------------------------------------- |\n",
      "           |       1       |       2       |       3       |\n",
      "------------------------------------------------------------\n",
      "     | ИМ  |     2.26      |     6.77      |     25.3      |\n",
      "  1  |------------------------------------------------------\n",
      "     |  Р  |     2.27      |     6.85      |     25.8      |\n",
      "------------------------------------------------------------\n",
      "     | ИМ  |     4.89      |     32.7      |      277      |\n",
      "  2  |------------------------------------------------------\n",
      "     |  Р  |     4.83      |     30.6      |      239      |\n",
      "------------------------------------------------------------\n",
      "     | ИМ  |     17.6      |      606      |   3.77e+04    |\n",
      "  3  |------------------------------------------------------\n",
      "     |  Р  |     15.1      |      377      |   1.37e+04    |\n",
      "------------------------------------------------------------\n",
      "\n",
      "\n",
      "\n"
     ]
    }
   ],
   "source": [
    "from most_queue.general_utils.tables import times_print_with_classes\n",
    "print(\"\\nСравнение данных ИМ и результатов расчета методом инвариантов отношения (Р) \\n\"\n",
    "          \"для времени пребывания в многоканальной СМО с приоритетами\")\n",
    "print(f\"Число каналов: {n}\\nЧисло классов: {k}\\nКоэффициент загрузки: {ro:<1.2f}\\n\")\n",
    "print(f\"Коэффициент вариации времени обслуживания {coev}\\n\")\n",
    "print(\"Абсолютный приоритет\")\n",
    "\n",
    "times_print_with_classes(v_sim, v_teor, is_w=False)"
   ]
  },
  {
   "cell_type": "code",
   "execution_count": null,
   "metadata": {
    "collapsed": false,
    "pycharm": {
     "name": "#%%\n"
    }
   },
   "outputs": [],
   "source": []
  }
 ],
 "metadata": {
  "kernelspec": {
   "display_name": "Python 3",
   "language": "python",
   "name": "python3"
  },
  "language_info": {
   "codemirror_mode": {
    "name": "ipython",
    "version": 2
   },
   "file_extension": ".py",
   "mimetype": "text/x-python",
   "name": "python",
   "nbconvert_exporter": "python",
   "pygments_lexer": "ipython2",
   "version": "2.7.6"
  }
 },
 "nbformat": 4,
 "nbformat_minor": 0
}
